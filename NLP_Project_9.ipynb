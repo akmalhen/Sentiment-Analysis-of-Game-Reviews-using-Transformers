{
  "cells": [
    {
      "cell_type": "markdown",
      "metadata": {
        "id": "LDGGasCO2GOS"
      },
      "source": [
        "**Install Libraries**"
      ]
    },
    {
      "cell_type": "code",
      "execution_count": null,
      "metadata": {
        "colab": {
          "base_uri": "https://localhost:8080/"
        },
        "id": "VA4ibJNYY42r",
        "outputId": "55dcf386-a716-4c2b-8007-cf82fc78ffc8"
      },
      "outputs": [
        {
          "name": "stdout",
          "output_type": "stream",
          "text": [
            "Requirement already satisfied: transformers in /usr/local/lib/python3.11/dist-packages (4.51.3)\n",
            "Requirement already satisfied: datasets in /usr/local/lib/python3.11/dist-packages (2.14.4)\n",
            "Requirement already satisfied: torch in /usr/local/lib/python3.11/dist-packages (2.6.0+cu124)\n",
            "Requirement already satisfied: filelock in /usr/local/lib/python3.11/dist-packages (from transformers) (3.18.0)\n",
            "Requirement already satisfied: huggingface-hub<1.0,>=0.30.0 in /usr/local/lib/python3.11/dist-packages (from transformers) (0.31.2)\n",
            "Requirement already satisfied: numpy>=1.17 in /usr/local/lib/python3.11/dist-packages (from transformers) (2.0.2)\n",
            "Requirement already satisfied: packaging>=20.0 in /usr/local/lib/python3.11/dist-packages (from transformers) (24.2)\n",
            "Requirement already satisfied: pyyaml>=5.1 in /usr/local/lib/python3.11/dist-packages (from transformers) (6.0.2)\n",
            "Requirement already satisfied: regex!=2019.12.17 in /usr/local/lib/python3.11/dist-packages (from transformers) (2024.11.6)\n",
            "Requirement already satisfied: requests in /usr/local/lib/python3.11/dist-packages (from transformers) (2.32.3)\n",
            "Requirement already satisfied: tokenizers<0.22,>=0.21 in /usr/local/lib/python3.11/dist-packages (from transformers) (0.21.1)\n",
            "Requirement already satisfied: safetensors>=0.4.3 in /usr/local/lib/python3.11/dist-packages (from transformers) (0.5.3)\n",
            "Requirement already satisfied: tqdm>=4.27 in /usr/local/lib/python3.11/dist-packages (from transformers) (4.67.1)\n",
            "Requirement already satisfied: pyarrow>=8.0.0 in /usr/local/lib/python3.11/dist-packages (from datasets) (18.1.0)\n",
            "Requirement already satisfied: dill<0.3.8,>=0.3.0 in /usr/local/lib/python3.11/dist-packages (from datasets) (0.3.7)\n",
            "Requirement already satisfied: pandas in /usr/local/lib/python3.11/dist-packages (from datasets) (2.2.2)\n",
            "Requirement already satisfied: xxhash in /usr/local/lib/python3.11/dist-packages (from datasets) (3.5.0)\n",
            "Requirement already satisfied: multiprocess in /usr/local/lib/python3.11/dist-packages (from datasets) (0.70.15)\n",
            "Requirement already satisfied: fsspec>=2021.11.1 in /usr/local/lib/python3.11/dist-packages (from fsspec[http]>=2021.11.1->datasets) (2025.3.2)\n",
            "Requirement already satisfied: aiohttp in /usr/local/lib/python3.11/dist-packages (from datasets) (3.11.15)\n",
            "Requirement already satisfied: typing-extensions>=4.10.0 in /usr/local/lib/python3.11/dist-packages (from torch) (4.13.2)\n",
            "Requirement already satisfied: networkx in /usr/local/lib/python3.11/dist-packages (from torch) (3.4.2)\n",
            "Requirement already satisfied: jinja2 in /usr/local/lib/python3.11/dist-packages (from torch) (3.1.6)\n",
            "Collecting nvidia-cuda-nvrtc-cu12==12.4.127 (from torch)\n",
            "  Downloading nvidia_cuda_nvrtc_cu12-12.4.127-py3-none-manylinux2014_x86_64.whl.metadata (1.5 kB)\n",
            "Collecting nvidia-cuda-runtime-cu12==12.4.127 (from torch)\n",
            "  Downloading nvidia_cuda_runtime_cu12-12.4.127-py3-none-manylinux2014_x86_64.whl.metadata (1.5 kB)\n",
            "Collecting nvidia-cuda-cupti-cu12==12.4.127 (from torch)\n",
            "  Downloading nvidia_cuda_cupti_cu12-12.4.127-py3-none-manylinux2014_x86_64.whl.metadata (1.6 kB)\n",
            "Collecting nvidia-cudnn-cu12==9.1.0.70 (from torch)\n",
            "  Downloading nvidia_cudnn_cu12-9.1.0.70-py3-none-manylinux2014_x86_64.whl.metadata (1.6 kB)\n",
            "Collecting nvidia-cublas-cu12==12.4.5.8 (from torch)\n",
            "  Downloading nvidia_cublas_cu12-12.4.5.8-py3-none-manylinux2014_x86_64.whl.metadata (1.5 kB)\n",
            "Collecting nvidia-cufft-cu12==11.2.1.3 (from torch)\n",
            "  Downloading nvidia_cufft_cu12-11.2.1.3-py3-none-manylinux2014_x86_64.whl.metadata (1.5 kB)\n",
            "Collecting nvidia-curand-cu12==10.3.5.147 (from torch)\n",
            "  Downloading nvidia_curand_cu12-10.3.5.147-py3-none-manylinux2014_x86_64.whl.metadata (1.5 kB)\n",
            "Collecting nvidia-cusolver-cu12==11.6.1.9 (from torch)\n",
            "  Downloading nvidia_cusolver_cu12-11.6.1.9-py3-none-manylinux2014_x86_64.whl.metadata (1.6 kB)\n",
            "Collecting nvidia-cusparse-cu12==12.3.1.170 (from torch)\n",
            "  Downloading nvidia_cusparse_cu12-12.3.1.170-py3-none-manylinux2014_x86_64.whl.metadata (1.6 kB)\n",
            "Requirement already satisfied: nvidia-cusparselt-cu12==0.6.2 in /usr/local/lib/python3.11/dist-packages (from torch) (0.6.2)\n",
            "Requirement already satisfied: nvidia-nccl-cu12==2.21.5 in /usr/local/lib/python3.11/dist-packages (from torch) (2.21.5)\n",
            "Requirement already satisfied: nvidia-nvtx-cu12==12.4.127 in /usr/local/lib/python3.11/dist-packages (from torch) (12.4.127)\n",
            "Collecting nvidia-nvjitlink-cu12==12.4.127 (from torch)\n",
            "  Downloading nvidia_nvjitlink_cu12-12.4.127-py3-none-manylinux2014_x86_64.whl.metadata (1.5 kB)\n",
            "Requirement already satisfied: triton==3.2.0 in /usr/local/lib/python3.11/dist-packages (from torch) (3.2.0)\n",
            "Requirement already satisfied: sympy==1.13.1 in /usr/local/lib/python3.11/dist-packages (from torch) (1.13.1)\n",
            "Requirement already satisfied: mpmath<1.4,>=1.1.0 in /usr/local/lib/python3.11/dist-packages (from sympy==1.13.1->torch) (1.3.0)\n",
            "Requirement already satisfied: aiohappyeyeballs>=2.3.0 in /usr/local/lib/python3.11/dist-packages (from aiohttp->datasets) (2.6.1)\n",
            "Requirement already satisfied: aiosignal>=1.1.2 in /usr/local/lib/python3.11/dist-packages (from aiohttp->datasets) (1.3.2)\n",
            "Requirement already satisfied: attrs>=17.3.0 in /usr/local/lib/python3.11/dist-packages (from aiohttp->datasets) (25.3.0)\n",
            "Requirement already satisfied: frozenlist>=1.1.1 in /usr/local/lib/python3.11/dist-packages (from aiohttp->datasets) (1.6.0)\n",
            "Requirement already satisfied: multidict<7.0,>=4.5 in /usr/local/lib/python3.11/dist-packages (from aiohttp->datasets) (6.4.3)\n",
            "Requirement already satisfied: propcache>=0.2.0 in /usr/local/lib/python3.11/dist-packages (from aiohttp->datasets) (0.3.1)\n",
            "Requirement already satisfied: yarl<2.0,>=1.17.0 in /usr/local/lib/python3.11/dist-packages (from aiohttp->datasets) (1.20.0)\n",
            "Requirement already satisfied: charset-normalizer<4,>=2 in /usr/local/lib/python3.11/dist-packages (from requests->transformers) (3.4.2)\n",
            "Requirement already satisfied: idna<4,>=2.5 in /usr/local/lib/python3.11/dist-packages (from requests->transformers) (3.10)\n",
            "Requirement already satisfied: urllib3<3,>=1.21.1 in /usr/local/lib/python3.11/dist-packages (from requests->transformers) (2.4.0)\n",
            "Requirement already satisfied: certifi>=2017.4.17 in /usr/local/lib/python3.11/dist-packages (from requests->transformers) (2025.4.26)\n",
            "Requirement already satisfied: MarkupSafe>=2.0 in /usr/local/lib/python3.11/dist-packages (from jinja2->torch) (3.0.2)\n",
            "Requirement already satisfied: python-dateutil>=2.8.2 in /usr/local/lib/python3.11/dist-packages (from pandas->datasets) (2.9.0.post0)\n",
            "Requirement already satisfied: pytz>=2020.1 in /usr/local/lib/python3.11/dist-packages (from pandas->datasets) (2025.2)\n",
            "Requirement already satisfied: tzdata>=2022.7 in /usr/local/lib/python3.11/dist-packages (from pandas->datasets) (2025.2)\n",
            "Requirement already satisfied: six>=1.5 in /usr/local/lib/python3.11/dist-packages (from python-dateutil>=2.8.2->pandas->datasets) (1.17.0)\n",
            "Downloading nvidia_cublas_cu12-12.4.5.8-py3-none-manylinux2014_x86_64.whl (363.4 MB)\n",
            "\u001b[2K   \u001b[90m━━━━━━━━━━━━━━━━━━━━━━━━━━━━━━━━━━━━━━━━\u001b[0m \u001b[32m363.4/363.4 MB\u001b[0m \u001b[31m4.3 MB/s\u001b[0m eta \u001b[36m0:00:00\u001b[0m\n",
            "\u001b[?25hDownloading nvidia_cuda_cupti_cu12-12.4.127-py3-none-manylinux2014_x86_64.whl (13.8 MB)\n",
            "\u001b[2K   \u001b[90m━━━━━━━━━━━━━━━━━━━━━━━━━━━━━━━━━━━━━━━━\u001b[0m \u001b[32m13.8/13.8 MB\u001b[0m \u001b[31m76.3 MB/s\u001b[0m eta \u001b[36m0:00:00\u001b[0m\n",
            "\u001b[?25hDownloading nvidia_cuda_nvrtc_cu12-12.4.127-py3-none-manylinux2014_x86_64.whl (24.6 MB)\n",
            "\u001b[2K   \u001b[90m━━━━━━━━━━━━━━━━━━━━━━━━━━━━━━━━━━━━━━━━\u001b[0m \u001b[32m24.6/24.6 MB\u001b[0m \u001b[31m56.9 MB/s\u001b[0m eta \u001b[36m0:00:00\u001b[0m\n",
            "\u001b[?25hDownloading nvidia_cuda_runtime_cu12-12.4.127-py3-none-manylinux2014_x86_64.whl (883 kB)\n",
            "\u001b[2K   \u001b[90m━━━━━━━━━━━━━━━━━━━━━━━━━━━━━━━━━━━━━━━━\u001b[0m \u001b[32m883.7/883.7 kB\u001b[0m \u001b[31m37.5 MB/s\u001b[0m eta \u001b[36m0:00:00\u001b[0m\n",
            "\u001b[?25hDownloading nvidia_cudnn_cu12-9.1.0.70-py3-none-manylinux2014_x86_64.whl (664.8 MB)\n",
            "\u001b[2K   \u001b[90m━━━━━━━━━━━━━━━━━━━━━━━━━━━━━━━━━━━━━━━━\u001b[0m \u001b[32m664.8/664.8 MB\u001b[0m \u001b[31m1.7 MB/s\u001b[0m eta \u001b[36m0:00:00\u001b[0m\n",
            "\u001b[?25hDownloading nvidia_cufft_cu12-11.2.1.3-py3-none-manylinux2014_x86_64.whl (211.5 MB)\n",
            "\u001b[2K   \u001b[90m━━━━━━━━━━━━━━━━━━━━━━━━━━━━━━━━━━━━━━━━\u001b[0m \u001b[32m211.5/211.5 MB\u001b[0m \u001b[31m5.6 MB/s\u001b[0m eta \u001b[36m0:00:00\u001b[0m\n",
            "\u001b[?25hDownloading nvidia_curand_cu12-10.3.5.147-py3-none-manylinux2014_x86_64.whl (56.3 MB)\n",
            "\u001b[2K   \u001b[90m━━━━━━━━━━━━━━━━━━━━━━━━━━━━━━━━━━━━━━━━\u001b[0m \u001b[32m56.3/56.3 MB\u001b[0m \u001b[31m20.6 MB/s\u001b[0m eta \u001b[36m0:00:00\u001b[0m\n",
            "\u001b[?25hDownloading nvidia_cusolver_cu12-11.6.1.9-py3-none-manylinux2014_x86_64.whl (127.9 MB)\n",
            "\u001b[2K   \u001b[90m━━━━━━━━━━━━━━━━━━━━━━━━━━━━━━━━━━━━━━━━\u001b[0m \u001b[32m127.9/127.9 MB\u001b[0m \u001b[31m7.2 MB/s\u001b[0m eta \u001b[36m0:00:00\u001b[0m\n",
            "\u001b[?25hDownloading nvidia_cusparse_cu12-12.3.1.170-py3-none-manylinux2014_x86_64.whl (207.5 MB)\n",
            "\u001b[2K   \u001b[90m━━━━━━━━━━━━━━━━━━━━━━━━━━━━━━━━━━━━━━━━\u001b[0m \u001b[32m207.5/207.5 MB\u001b[0m \u001b[31m7.7 MB/s\u001b[0m eta \u001b[36m0:00:00\u001b[0m\n",
            "\u001b[?25hDownloading nvidia_nvjitlink_cu12-12.4.127-py3-none-manylinux2014_x86_64.whl (21.1 MB)\n",
            "\u001b[2K   \u001b[90m━━━━━━━━━━━━━━━━━━━━━━━━━━━━━━━━━━━━━━━━\u001b[0m \u001b[32m21.1/21.1 MB\u001b[0m \u001b[31m103.7 MB/s\u001b[0m eta \u001b[36m0:00:00\u001b[0m\n",
            "\u001b[?25hInstalling collected packages: nvidia-nvjitlink-cu12, nvidia-curand-cu12, nvidia-cufft-cu12, nvidia-cuda-runtime-cu12, nvidia-cuda-nvrtc-cu12, nvidia-cuda-cupti-cu12, nvidia-cublas-cu12, nvidia-cusparse-cu12, nvidia-cudnn-cu12, nvidia-cusolver-cu12\n",
            "  Attempting uninstall: nvidia-nvjitlink-cu12\n",
            "    Found existing installation: nvidia-nvjitlink-cu12 12.5.82\n",
            "    Uninstalling nvidia-nvjitlink-cu12-12.5.82:\n",
            "      Successfully uninstalled nvidia-nvjitlink-cu12-12.5.82\n",
            "  Attempting uninstall: nvidia-curand-cu12\n",
            "    Found existing installation: nvidia-curand-cu12 10.3.6.82\n",
            "    Uninstalling nvidia-curand-cu12-10.3.6.82:\n",
            "      Successfully uninstalled nvidia-curand-cu12-10.3.6.82\n",
            "  Attempting uninstall: nvidia-cufft-cu12\n",
            "    Found existing installation: nvidia-cufft-cu12 11.2.3.61\n",
            "    Uninstalling nvidia-cufft-cu12-11.2.3.61:\n",
            "      Successfully uninstalled nvidia-cufft-cu12-11.2.3.61\n",
            "  Attempting uninstall: nvidia-cuda-runtime-cu12\n",
            "    Found existing installation: nvidia-cuda-runtime-cu12 12.5.82\n",
            "    Uninstalling nvidia-cuda-runtime-cu12-12.5.82:\n",
            "      Successfully uninstalled nvidia-cuda-runtime-cu12-12.5.82\n",
            "  Attempting uninstall: nvidia-cuda-nvrtc-cu12\n",
            "    Found existing installation: nvidia-cuda-nvrtc-cu12 12.5.82\n",
            "    Uninstalling nvidia-cuda-nvrtc-cu12-12.5.82:\n",
            "      Successfully uninstalled nvidia-cuda-nvrtc-cu12-12.5.82\n",
            "  Attempting uninstall: nvidia-cuda-cupti-cu12\n",
            "    Found existing installation: nvidia-cuda-cupti-cu12 12.5.82\n",
            "    Uninstalling nvidia-cuda-cupti-cu12-12.5.82:\n",
            "      Successfully uninstalled nvidia-cuda-cupti-cu12-12.5.82\n",
            "  Attempting uninstall: nvidia-cublas-cu12\n",
            "    Found existing installation: nvidia-cublas-cu12 12.5.3.2\n",
            "    Uninstalling nvidia-cublas-cu12-12.5.3.2:\n",
            "      Successfully uninstalled nvidia-cublas-cu12-12.5.3.2\n",
            "  Attempting uninstall: nvidia-cusparse-cu12\n",
            "    Found existing installation: nvidia-cusparse-cu12 12.5.1.3\n",
            "    Uninstalling nvidia-cusparse-cu12-12.5.1.3:\n",
            "      Successfully uninstalled nvidia-cusparse-cu12-12.5.1.3\n",
            "  Attempting uninstall: nvidia-cudnn-cu12\n",
            "    Found existing installation: nvidia-cudnn-cu12 9.3.0.75\n",
            "    Uninstalling nvidia-cudnn-cu12-9.3.0.75:\n",
            "      Successfully uninstalled nvidia-cudnn-cu12-9.3.0.75\n",
            "  Attempting uninstall: nvidia-cusolver-cu12\n",
            "    Found existing installation: nvidia-cusolver-cu12 11.6.3.83\n",
            "    Uninstalling nvidia-cusolver-cu12-11.6.3.83:\n",
            "      Successfully uninstalled nvidia-cusolver-cu12-11.6.3.83\n",
            "Successfully installed nvidia-cublas-cu12-12.4.5.8 nvidia-cuda-cupti-cu12-12.4.127 nvidia-cuda-nvrtc-cu12-12.4.127 nvidia-cuda-runtime-cu12-12.4.127 nvidia-cudnn-cu12-9.1.0.70 nvidia-cufft-cu12-11.2.1.3 nvidia-curand-cu12-10.3.5.147 nvidia-cusolver-cu12-11.6.1.9 nvidia-cusparse-cu12-12.3.1.170 nvidia-nvjitlink-cu12-12.4.127\n",
            "Collecting emoji\n",
            "  Downloading emoji-2.14.1-py3-none-any.whl.metadata (5.7 kB)\n",
            "Downloading emoji-2.14.1-py3-none-any.whl (590 kB)\n",
            "\u001b[2K   \u001b[90m━━━━━━━━━━━━━━━━━━━━━━━━━━━━━━━━━━━━━━━━\u001b[0m \u001b[32m590.6/590.6 kB\u001b[0m \u001b[31m9.5 MB/s\u001b[0m eta \u001b[36m0:00:00\u001b[0m\n",
            "\u001b[?25hInstalling collected packages: emoji\n",
            "Successfully installed emoji-2.14.1\n",
            "Collecting swifter\n",
            "  Downloading swifter-1.4.0.tar.gz (1.2 MB)\n",
            "\u001b[2K     \u001b[90m━━━━━━━━━━━━━━━━━━━━━━━━━━━━━━━━━━━━━━━━\u001b[0m \u001b[32m1.2/1.2 MB\u001b[0m \u001b[31m15.4 MB/s\u001b[0m eta \u001b[36m0:00:00\u001b[0m\n",
            "\u001b[?25h  Preparing metadata (setup.py) ... \u001b[?25l\u001b[?25hdone\n",
            "Requirement already satisfied: pandas>=1.0.0 in /usr/local/lib/python3.11/dist-packages (from swifter) (2.2.2)\n",
            "Requirement already satisfied: psutil>=5.6.6 in /usr/local/lib/python3.11/dist-packages (from swifter) (5.9.5)\n",
            "Requirement already satisfied: dask>=2.10.0 in /usr/local/lib/python3.11/dist-packages (from dask[dataframe]>=2.10.0->swifter) (2024.12.1)\n",
            "Requirement already satisfied: tqdm>=4.33.0 in /usr/local/lib/python3.11/dist-packages (from swifter) (4.67.1)\n",
            "Requirement already satisfied: click>=8.1 in /usr/local/lib/python3.11/dist-packages (from dask>=2.10.0->dask[dataframe]>=2.10.0->swifter) (8.2.0)\n",
            "Requirement already satisfied: cloudpickle>=3.0.0 in /usr/local/lib/python3.11/dist-packages (from dask>=2.10.0->dask[dataframe]>=2.10.0->swifter) (3.1.1)\n",
            "Requirement already satisfied: fsspec>=2021.09.0 in /usr/local/lib/python3.11/dist-packages (from dask>=2.10.0->dask[dataframe]>=2.10.0->swifter) (2025.3.2)\n",
            "Requirement already satisfied: packaging>=20.0 in /usr/local/lib/python3.11/dist-packages (from dask>=2.10.0->dask[dataframe]>=2.10.0->swifter) (24.2)\n",
            "Requirement already satisfied: partd>=1.4.0 in /usr/local/lib/python3.11/dist-packages (from dask>=2.10.0->dask[dataframe]>=2.10.0->swifter) (1.4.2)\n",
            "Requirement already satisfied: pyyaml>=5.3.1 in /usr/local/lib/python3.11/dist-packages (from dask>=2.10.0->dask[dataframe]>=2.10.0->swifter) (6.0.2)\n",
            "Requirement already satisfied: toolz>=0.10.0 in /usr/local/lib/python3.11/dist-packages (from dask>=2.10.0->dask[dataframe]>=2.10.0->swifter) (0.12.1)\n",
            "Requirement already satisfied: importlib_metadata>=4.13.0 in /usr/local/lib/python3.11/dist-packages (from dask>=2.10.0->dask[dataframe]>=2.10.0->swifter) (8.7.0)\n",
            "Requirement already satisfied: dask-expr<1.2,>=1.1 in /usr/local/lib/python3.11/dist-packages (from dask[dataframe]>=2.10.0->swifter) (1.1.21)\n",
            "Requirement already satisfied: numpy>=1.23.2 in /usr/local/lib/python3.11/dist-packages (from pandas>=1.0.0->swifter) (2.0.2)\n",
            "Requirement already satisfied: python-dateutil>=2.8.2 in /usr/local/lib/python3.11/dist-packages (from pandas>=1.0.0->swifter) (2.9.0.post0)\n",
            "Requirement already satisfied: pytz>=2020.1 in /usr/local/lib/python3.11/dist-packages (from pandas>=1.0.0->swifter) (2025.2)\n",
            "Requirement already satisfied: tzdata>=2022.7 in /usr/local/lib/python3.11/dist-packages (from pandas>=1.0.0->swifter) (2025.2)\n",
            "Requirement already satisfied: pyarrow>=14.0.1 in /usr/local/lib/python3.11/dist-packages (from dask-expr<1.2,>=1.1->dask[dataframe]>=2.10.0->swifter) (18.1.0)\n",
            "Requirement already satisfied: zipp>=3.20 in /usr/local/lib/python3.11/dist-packages (from importlib_metadata>=4.13.0->dask>=2.10.0->dask[dataframe]>=2.10.0->swifter) (3.21.0)\n",
            "Requirement already satisfied: locket in /usr/local/lib/python3.11/dist-packages (from partd>=1.4.0->dask>=2.10.0->dask[dataframe]>=2.10.0->swifter) (1.0.0)\n",
            "Requirement already satisfied: six>=1.5 in /usr/local/lib/python3.11/dist-packages (from python-dateutil>=2.8.2->pandas>=1.0.0->swifter) (1.17.0)\n",
            "Building wheels for collected packages: swifter\n",
            "  Building wheel for swifter (setup.py) ... \u001b[?25l\u001b[?25hdone\n",
            "  Created wheel for swifter: filename=swifter-1.4.0-py3-none-any.whl size=16505 sha256=6d5ca13a11286c30fb24b09a0a8dcb8b76f6de9c9ae17f00e0aeabe823cd44f3\n",
            "  Stored in directory: /root/.cache/pip/wheels/ef/7f/bd/9bed48f078f3ee1fa75e0b29b6e0335ce1cb03a38d3443b3a3\n",
            "Successfully built swifter\n",
            "Installing collected packages: swifter\n",
            "Successfully installed swifter-1.4.0\n",
            "Requirement already satisfied: datasets in /usr/local/lib/python3.11/dist-packages (2.14.4)\n",
            "Collecting datasets\n",
            "  Downloading datasets-3.6.0-py3-none-any.whl.metadata (19 kB)\n",
            "Requirement already satisfied: transformers in /usr/local/lib/python3.11/dist-packages (4.51.3)\n",
            "Collecting transformers\n",
            "  Downloading transformers-4.52.3-py3-none-any.whl.metadata (40 kB)\n",
            "\u001b[2K     \u001b[90m━━━━━━━━━━━━━━━━━━━━━━━━━━━━━━━━━━━━━━━━\u001b[0m \u001b[32m40.2/40.2 kB\u001b[0m \u001b[31m1.6 MB/s\u001b[0m eta \u001b[36m0:00:00\u001b[0m\n",
            "\u001b[?25hRequirement already satisfied: filelock in /usr/local/lib/python3.11/dist-packages (from datasets) (3.18.0)\n",
            "Requirement already satisfied: numpy>=1.17 in /usr/local/lib/python3.11/dist-packages (from datasets) (2.0.2)\n",
            "Requirement already satisfied: pyarrow>=15.0.0 in /usr/local/lib/python3.11/dist-packages (from datasets) (18.1.0)\n",
            "Requirement already satisfied: dill<0.3.9,>=0.3.0 in /usr/local/lib/python3.11/dist-packages (from datasets) (0.3.7)\n",
            "Requirement already satisfied: pandas in /usr/local/lib/python3.11/dist-packages (from datasets) (2.2.2)\n",
            "Requirement already satisfied: requests>=2.32.2 in /usr/local/lib/python3.11/dist-packages (from datasets) (2.32.3)\n",
            "Requirement already satisfied: tqdm>=4.66.3 in /usr/local/lib/python3.11/dist-packages (from datasets) (4.67.1)\n",
            "Requirement already satisfied: xxhash in /usr/local/lib/python3.11/dist-packages (from datasets) (3.5.0)\n",
            "Requirement already satisfied: multiprocess<0.70.17 in /usr/local/lib/python3.11/dist-packages (from datasets) (0.70.15)\n",
            "Collecting fsspec<=2025.3.0,>=2023.1.0 (from fsspec[http]<=2025.3.0,>=2023.1.0->datasets)\n",
            "  Downloading fsspec-2025.3.0-py3-none-any.whl.metadata (11 kB)\n",
            "Requirement already satisfied: huggingface-hub>=0.24.0 in /usr/local/lib/python3.11/dist-packages (from datasets) (0.31.2)\n",
            "Requirement already satisfied: packaging in /usr/local/lib/python3.11/dist-packages (from datasets) (24.2)\n",
            "Requirement already satisfied: pyyaml>=5.1 in /usr/local/lib/python3.11/dist-packages (from datasets) (6.0.2)\n",
            "Requirement already satisfied: regex!=2019.12.17 in /usr/local/lib/python3.11/dist-packages (from transformers) (2024.11.6)\n",
            "Requirement already satisfied: tokenizers<0.22,>=0.21 in /usr/local/lib/python3.11/dist-packages (from transformers) (0.21.1)\n",
            "Requirement already satisfied: safetensors>=0.4.3 in /usr/local/lib/python3.11/dist-packages (from transformers) (0.5.3)\n",
            "Requirement already satisfied: aiohttp!=4.0.0a0,!=4.0.0a1 in /usr/local/lib/python3.11/dist-packages (from fsspec[http]<=2025.3.0,>=2023.1.0->datasets) (3.11.15)\n",
            "Requirement already satisfied: typing-extensions>=3.7.4.3 in /usr/local/lib/python3.11/dist-packages (from huggingface-hub>=0.24.0->datasets) (4.13.2)\n",
            "Requirement already satisfied: charset-normalizer<4,>=2 in /usr/local/lib/python3.11/dist-packages (from requests>=2.32.2->datasets) (3.4.2)\n",
            "Requirement already satisfied: idna<4,>=2.5 in /usr/local/lib/python3.11/dist-packages (from requests>=2.32.2->datasets) (3.10)\n",
            "Requirement already satisfied: urllib3<3,>=1.21.1 in /usr/local/lib/python3.11/dist-packages (from requests>=2.32.2->datasets) (2.4.0)\n",
            "Requirement already satisfied: certifi>=2017.4.17 in /usr/local/lib/python3.11/dist-packages (from requests>=2.32.2->datasets) (2025.4.26)\n",
            "Requirement already satisfied: python-dateutil>=2.8.2 in /usr/local/lib/python3.11/dist-packages (from pandas->datasets) (2.9.0.post0)\n",
            "Requirement already satisfied: pytz>=2020.1 in /usr/local/lib/python3.11/dist-packages (from pandas->datasets) (2025.2)\n",
            "Requirement already satisfied: tzdata>=2022.7 in /usr/local/lib/python3.11/dist-packages (from pandas->datasets) (2025.2)\n",
            "Requirement already satisfied: aiohappyeyeballs>=2.3.0 in /usr/local/lib/python3.11/dist-packages (from aiohttp!=4.0.0a0,!=4.0.0a1->fsspec[http]<=2025.3.0,>=2023.1.0->datasets) (2.6.1)\n",
            "Requirement already satisfied: aiosignal>=1.1.2 in /usr/local/lib/python3.11/dist-packages (from aiohttp!=4.0.0a0,!=4.0.0a1->fsspec[http]<=2025.3.0,>=2023.1.0->datasets) (1.3.2)\n",
            "Requirement already satisfied: attrs>=17.3.0 in /usr/local/lib/python3.11/dist-packages (from aiohttp!=4.0.0a0,!=4.0.0a1->fsspec[http]<=2025.3.0,>=2023.1.0->datasets) (25.3.0)\n",
            "Requirement already satisfied: frozenlist>=1.1.1 in /usr/local/lib/python3.11/dist-packages (from aiohttp!=4.0.0a0,!=4.0.0a1->fsspec[http]<=2025.3.0,>=2023.1.0->datasets) (1.6.0)\n",
            "Requirement already satisfied: multidict<7.0,>=4.5 in /usr/local/lib/python3.11/dist-packages (from aiohttp!=4.0.0a0,!=4.0.0a1->fsspec[http]<=2025.3.0,>=2023.1.0->datasets) (6.4.3)\n",
            "Requirement already satisfied: propcache>=0.2.0 in /usr/local/lib/python3.11/dist-packages (from aiohttp!=4.0.0a0,!=4.0.0a1->fsspec[http]<=2025.3.0,>=2023.1.0->datasets) (0.3.1)\n",
            "Requirement already satisfied: yarl<2.0,>=1.17.0 in /usr/local/lib/python3.11/dist-packages (from aiohttp!=4.0.0a0,!=4.0.0a1->fsspec[http]<=2025.3.0,>=2023.1.0->datasets) (1.20.0)\n",
            "Requirement already satisfied: six>=1.5 in /usr/local/lib/python3.11/dist-packages (from python-dateutil>=2.8.2->pandas->datasets) (1.17.0)\n",
            "Downloading datasets-3.6.0-py3-none-any.whl (491 kB)\n",
            "\u001b[2K   \u001b[90m━━━━━━━━━━━━━━━━━━━━━━━━━━━━━━━━━━━━━━━━\u001b[0m \u001b[32m491.5/491.5 kB\u001b[0m \u001b[31m7.2 MB/s\u001b[0m eta \u001b[36m0:00:00\u001b[0m\n",
            "\u001b[?25hDownloading transformers-4.52.3-py3-none-any.whl (10.5 MB)\n",
            "\u001b[2K   \u001b[90m━━━━━━━━━━━━━━━━━━━━━━━━━━━━━━━━━━━━━━━━\u001b[0m \u001b[32m10.5/10.5 MB\u001b[0m \u001b[31m43.6 MB/s\u001b[0m eta \u001b[36m0:00:00\u001b[0m\n",
            "\u001b[?25hDownloading fsspec-2025.3.0-py3-none-any.whl (193 kB)\n",
            "\u001b[2K   \u001b[90m━━━━━━━━━━━━━━━━━━━━━━━━━━━━━━━━━━━━━━━━\u001b[0m \u001b[32m193.6/193.6 kB\u001b[0m \u001b[31m17.4 MB/s\u001b[0m eta \u001b[36m0:00:00\u001b[0m\n",
            "\u001b[?25hInstalling collected packages: fsspec, transformers, datasets\n",
            "  Attempting uninstall: fsspec\n",
            "    Found existing installation: fsspec 2025.3.2\n",
            "    Uninstalling fsspec-2025.3.2:\n",
            "      Successfully uninstalled fsspec-2025.3.2\n",
            "  Attempting uninstall: transformers\n",
            "    Found existing installation: transformers 4.51.3\n",
            "    Uninstalling transformers-4.51.3:\n",
            "      Successfully uninstalled transformers-4.51.3\n",
            "  Attempting uninstall: datasets\n",
            "    Found existing installation: datasets 2.14.4\n",
            "    Uninstalling datasets-2.14.4:\n",
            "      Successfully uninstalled datasets-2.14.4\n",
            "\u001b[31mERROR: pip's dependency resolver does not currently take into account all the packages that are installed. This behaviour is the source of the following dependency conflicts.\n",
            "gcsfs 2025.3.2 requires fsspec==2025.3.2, but you have fsspec 2025.3.0 which is incompatible.\u001b[0m\u001b[31m\n",
            "\u001b[0mSuccessfully installed datasets-3.6.0 fsspec-2025.3.0 transformers-4.52.3\n"
          ]
        }
      ],
      "source": [
        "!pip install transformers datasets torch\n",
        "!pip install emoji\n",
        "!pip install swifter\n",
        "!pip install --upgrade datasets transformers"
      ]
    },
    {
      "cell_type": "markdown",
      "metadata": {
        "id": "Q_FUUCA4nf2y"
      },
      "source": [
        "**Import Library**"
      ]
    },
    {
      "cell_type": "code",
      "execution_count": null,
      "metadata": {
        "id": "XuuAk7AJnfgJ"
      },
      "outputs": [],
      "source": [
        "import pandas as pd\n",
        "import seaborn as sns\n",
        "import matplotlib.pyplot as plt\n",
        "import numpy as np\n",
        "import emoji\n",
        "import nltk\n",
        "import torch\n",
        "import os\n",
        "import datasets\n",
        "\n",
        "import swifter\n",
        "from transformers import AutoTokenizer, AutoModelForSequenceClassification, TrainingArguments, Trainer\n",
        "from datasets import Dataset\n",
        "from nltk.stem import WordNetLemmatizer\n",
        "from transformers import TrainingArguments, Trainer, EvalPrediction\n",
        "from sklearn.metrics import accuracy_score, f1_score, classification_report\n",
        "from sklearn.model_selection import train_test_split\n",
        "from datasets import load_from_disk"
      ]
    },
    {
      "cell_type": "code",
      "execution_count": null,
      "metadata": {
        "colab": {
          "base_uri": "https://localhost:8080/"
        },
        "id": "UrsGdhxs2gfL",
        "outputId": "cefb383e-eb11-4ba9-aec1-03fd4585ac18"
      },
      "outputs": [
        {
          "name": "stderr",
          "output_type": "stream",
          "text": [
            "[nltk_data] Downloading package wordnet to /root/nltk_data...\n"
          ]
        },
        {
          "data": {
            "text/plain": [
              "True"
            ]
          },
          "execution_count": 3,
          "metadata": {},
          "output_type": "execute_result"
        }
      ],
      "source": [
        "nltk.download('wordnet')"
      ]
    },
    {
      "cell_type": "markdown",
      "metadata": {
        "id": "_ECKyUNz2UCr"
      },
      "source": [
        "**Cek GPU**"
      ]
    },
    {
      "cell_type": "code",
      "execution_count": null,
      "metadata": {
        "colab": {
          "base_uri": "https://localhost:8080/"
        },
        "id": "5-dlGtpeXHrr",
        "outputId": "eafc5651-f19c-4b04-9137-e945743e4d85"
      },
      "outputs": [
        {
          "name": "stdout",
          "output_type": "stream",
          "text": [
            "GPU tersedia: True\n",
            "Jumlah GPU: 1\n",
            "Nama GPU: Tesla T4\n"
          ]
        }
      ],
      "source": [
        "print(\"GPU tersedia:\", torch.cuda.is_available())\n",
        "print(\"Jumlah GPU:\", torch.cuda.device_count())\n",
        "print(\"Nama GPU:\", torch.cuda.get_device_name(0) if torch.cuda.is_available() else \"Tidak tersedia\")"
      ]
    },
    {
      "cell_type": "markdown",
      "metadata": {
        "id": "Adu8vS2y2mdN"
      },
      "source": [
        "**Inisialisasi Fungsi**"
      ]
    },
    {
      "cell_type": "code",
      "execution_count": null,
      "metadata": {
        "id": "bh2WBSD5nfcu"
      },
      "outputs": [],
      "source": [
        "lemmatizer = WordNetLemmatizer()"
      ]
    },
    {
      "cell_type": "markdown",
      "metadata": {
        "id": "L_IT0QNNd7tL"
      },
      "source": [
        "**Load Dataset**"
      ]
    },
    {
      "cell_type": "code",
      "execution_count": null,
      "metadata": {
        "colab": {
          "base_uri": "https://localhost:8080/"
        },
        "id": "rWEiHoL5cJ78",
        "outputId": "76d3a21f-30d0-42a3-e315-547aa0a532e7"
      },
      "outputs": [
        {
          "name": "stdout",
          "output_type": "stream",
          "text": [
            "Mounted at /content/drive\n"
          ]
        }
      ],
      "source": [
        "# @title Paths for TinyBERT Model and Datasets\n",
        "# PATH untuk menyimpan model TinyBERT (ubah ke path yang lebih umum di Colab)\n",
        "MODEL_SAVE_PATH = \"/content/models/tinybert\"\n",
        "train_path = \"/content/datasets/train_dataset_tinybert\" # Juga gunakan path umum\n",
        "val_path = \"/content/datasets/val_dataset_tinybert\"\n",
        "test_path = \"/content/datasets/test_dataset_tinybert\"\n",
        "\n",
        "# Pastikan direktori ada\n",
        "import os\n",
        "os.makedirs(MODEL_SAVE_PATH, exist_ok=True)\n",
        "os.makedirs(\"/content/datasets\", exist_ok=True) # Buat direktori untuk dataset"
      ]
    },
    {
      "cell_type": "markdown",
      "metadata": {
        "id": "tIS9wR25n5E2"
      },
      "source": [
        "# **Exploratory Data Anakysis (EDA)**"
      ]
    },
    {
      "cell_type": "code",
      "execution_count": null,
      "metadata": {
        "colab": {
          "base_uri": "https://localhost:8080/",
          "height": 206
        },
        "id": "f941hkqFnuLh",
        "outputId": "89a642a4-6a65-4ff7-ee3c-5cb36b513a5a"
      },
      "outputs": [
        {
          "data": {
            "application/vnd.google.colaboratory.intrinsic+json": {
              "type": "dataframe",
              "variable_name": "df"
            },
            "text/html": [
              "\n",
              "  <div id=\"df-f65b6bb3-ef0f-4b9b-9558-e83638af2089\" class=\"colab-df-container\">\n",
              "    <div>\n",
              "<style scoped>\n",
              "    .dataframe tbody tr th:only-of-type {\n",
              "        vertical-align: middle;\n",
              "    }\n",
              "\n",
              "    .dataframe tbody tr th {\n",
              "        vertical-align: top;\n",
              "    }\n",
              "\n",
              "    .dataframe thead th {\n",
              "        text-align: right;\n",
              "    }\n",
              "</style>\n",
              "<table border=\"1\" class=\"dataframe\">\n",
              "  <thead>\n",
              "    <tr style=\"text-align: right;\">\n",
              "      <th></th>\n",
              "      <th>app_id</th>\n",
              "      <th>app_name</th>\n",
              "      <th>review_text</th>\n",
              "      <th>review_score</th>\n",
              "      <th>review_votes</th>\n",
              "    </tr>\n",
              "  </thead>\n",
              "  <tbody>\n",
              "    <tr>\n",
              "      <th>0</th>\n",
              "      <td>10</td>\n",
              "      <td>Counter-Strike</td>\n",
              "      <td>Ruined my life.</td>\n",
              "      <td>1</td>\n",
              "      <td>0</td>\n",
              "    </tr>\n",
              "    <tr>\n",
              "      <th>1</th>\n",
              "      <td>10</td>\n",
              "      <td>Counter-Strike</td>\n",
              "      <td>This will be more of a ''my experience with th...</td>\n",
              "      <td>1</td>\n",
              "      <td>1</td>\n",
              "    </tr>\n",
              "    <tr>\n",
              "      <th>2</th>\n",
              "      <td>10</td>\n",
              "      <td>Counter-Strike</td>\n",
              "      <td>This game saved my virginity.</td>\n",
              "      <td>1</td>\n",
              "      <td>0</td>\n",
              "    </tr>\n",
              "    <tr>\n",
              "      <th>3</th>\n",
              "      <td>10</td>\n",
              "      <td>Counter-Strike</td>\n",
              "      <td>• Do you like original games? • Do you like ga...</td>\n",
              "      <td>1</td>\n",
              "      <td>0</td>\n",
              "    </tr>\n",
              "    <tr>\n",
              "      <th>4</th>\n",
              "      <td>10</td>\n",
              "      <td>Counter-Strike</td>\n",
              "      <td>Easy to learn, hard to master.</td>\n",
              "      <td>1</td>\n",
              "      <td>1</td>\n",
              "    </tr>\n",
              "  </tbody>\n",
              "</table>\n",
              "</div>\n",
              "    <div class=\"colab-df-buttons\">\n",
              "\n",
              "  <div class=\"colab-df-container\">\n",
              "    <button class=\"colab-df-convert\" onclick=\"convertToInteractive('df-f65b6bb3-ef0f-4b9b-9558-e83638af2089')\"\n",
              "            title=\"Convert this dataframe to an interactive table.\"\n",
              "            style=\"display:none;\">\n",
              "\n",
              "  <svg xmlns=\"http://www.w3.org/2000/svg\" height=\"24px\" viewBox=\"0 -960 960 960\">\n",
              "    <path d=\"M120-120v-720h720v720H120Zm60-500h600v-160H180v160Zm220 220h160v-160H400v160Zm0 220h160v-160H400v160ZM180-400h160v-160H180v160Zm440 0h160v-160H620v160ZM180-180h160v-160H180v160Zm440 0h160v-160H620v160Z\"/>\n",
              "  </svg>\n",
              "    </button>\n",
              "\n",
              "  <style>\n",
              "    .colab-df-container {\n",
              "      display:flex;\n",
              "      gap: 12px;\n",
              "    }\n",
              "\n",
              "    .colab-df-convert {\n",
              "      background-color: #E8F0FE;\n",
              "      border: none;\n",
              "      border-radius: 50%;\n",
              "      cursor: pointer;\n",
              "      display: none;\n",
              "      fill: #1967D2;\n",
              "      height: 32px;\n",
              "      padding: 0 0 0 0;\n",
              "      width: 32px;\n",
              "    }\n",
              "\n",
              "    .colab-df-convert:hover {\n",
              "      background-color: #E2EBFA;\n",
              "      box-shadow: 0px 1px 2px rgba(60, 64, 67, 0.3), 0px 1px 3px 1px rgba(60, 64, 67, 0.15);\n",
              "      fill: #174EA6;\n",
              "    }\n",
              "\n",
              "    .colab-df-buttons div {\n",
              "      margin-bottom: 4px;\n",
              "    }\n",
              "\n",
              "    [theme=dark] .colab-df-convert {\n",
              "      background-color: #3B4455;\n",
              "      fill: #D2E3FC;\n",
              "    }\n",
              "\n",
              "    [theme=dark] .colab-df-convert:hover {\n",
              "      background-color: #434B5C;\n",
              "      box-shadow: 0px 1px 3px 1px rgba(0, 0, 0, 0.15);\n",
              "      filter: drop-shadow(0px 1px 2px rgba(0, 0, 0, 0.3));\n",
              "      fill: #FFFFFF;\n",
              "    }\n",
              "  </style>\n",
              "\n",
              "    <script>\n",
              "      const buttonEl =\n",
              "        document.querySelector('#df-f65b6bb3-ef0f-4b9b-9558-e83638af2089 button.colab-df-convert');\n",
              "      buttonEl.style.display =\n",
              "        google.colab.kernel.accessAllowed ? 'block' : 'none';\n",
              "\n",
              "      async function convertToInteractive(key) {\n",
              "        const element = document.querySelector('#df-f65b6bb3-ef0f-4b9b-9558-e83638af2089');\n",
              "        const dataTable =\n",
              "          await google.colab.kernel.invokeFunction('convertToInteractive',\n",
              "                                                    [key], {});\n",
              "        if (!dataTable) return;\n",
              "\n",
              "        const docLinkHtml = 'Like what you see? Visit the ' +\n",
              "          '<a target=\"_blank\" href=https://colab.research.google.com/notebooks/data_table.ipynb>data table notebook</a>'\n",
              "          + ' to learn more about interactive tables.';\n",
              "        element.innerHTML = '';\n",
              "        dataTable['output_type'] = 'display_data';\n",
              "        await google.colab.output.renderOutput(dataTable, element);\n",
              "        const docLink = document.createElement('div');\n",
              "        docLink.innerHTML = docLinkHtml;\n",
              "        element.appendChild(docLink);\n",
              "      }\n",
              "    </script>\n",
              "  </div>\n",
              "\n",
              "\n",
              "    <div id=\"df-41be80a3-2ace-495b-a918-bfcc8a9ee93e\">\n",
              "      <button class=\"colab-df-quickchart\" onclick=\"quickchart('df-41be80a3-2ace-495b-a918-bfcc8a9ee93e')\"\n",
              "                title=\"Suggest charts\"\n",
              "                style=\"display:none;\">\n",
              "\n",
              "<svg xmlns=\"http://www.w3.org/2000/svg\" height=\"24px\"viewBox=\"0 0 24 24\"\n",
              "     width=\"24px\">\n",
              "    <g>\n",
              "        <path d=\"M19 3H5c-1.1 0-2 .9-2 2v14c0 1.1.9 2 2 2h14c1.1 0 2-.9 2-2V5c0-1.1-.9-2-2-2zM9 17H7v-7h2v7zm4 0h-2V7h2v10zm4 0h-2v-4h2v4z\"/>\n",
              "    </g>\n",
              "</svg>\n",
              "      </button>\n",
              "\n",
              "<style>\n",
              "  .colab-df-quickchart {\n",
              "      --bg-color: #E8F0FE;\n",
              "      --fill-color: #1967D2;\n",
              "      --hover-bg-color: #E2EBFA;\n",
              "      --hover-fill-color: #174EA6;\n",
              "      --disabled-fill-color: #AAA;\n",
              "      --disabled-bg-color: #DDD;\n",
              "  }\n",
              "\n",
              "  [theme=dark] .colab-df-quickchart {\n",
              "      --bg-color: #3B4455;\n",
              "      --fill-color: #D2E3FC;\n",
              "      --hover-bg-color: #434B5C;\n",
              "      --hover-fill-color: #FFFFFF;\n",
              "      --disabled-bg-color: #3B4455;\n",
              "      --disabled-fill-color: #666;\n",
              "  }\n",
              "\n",
              "  .colab-df-quickchart {\n",
              "    background-color: var(--bg-color);\n",
              "    border: none;\n",
              "    border-radius: 50%;\n",
              "    cursor: pointer;\n",
              "    display: none;\n",
              "    fill: var(--fill-color);\n",
              "    height: 32px;\n",
              "    padding: 0;\n",
              "    width: 32px;\n",
              "  }\n",
              "\n",
              "  .colab-df-quickchart:hover {\n",
              "    background-color: var(--hover-bg-color);\n",
              "    box-shadow: 0 1px 2px rgba(60, 64, 67, 0.3), 0 1px 3px 1px rgba(60, 64, 67, 0.15);\n",
              "    fill: var(--button-hover-fill-color);\n",
              "  }\n",
              "\n",
              "  .colab-df-quickchart-complete:disabled,\n",
              "  .colab-df-quickchart-complete:disabled:hover {\n",
              "    background-color: var(--disabled-bg-color);\n",
              "    fill: var(--disabled-fill-color);\n",
              "    box-shadow: none;\n",
              "  }\n",
              "\n",
              "  .colab-df-spinner {\n",
              "    border: 2px solid var(--fill-color);\n",
              "    border-color: transparent;\n",
              "    border-bottom-color: var(--fill-color);\n",
              "    animation:\n",
              "      spin 1s steps(1) infinite;\n",
              "  }\n",
              "\n",
              "  @keyframes spin {\n",
              "    0% {\n",
              "      border-color: transparent;\n",
              "      border-bottom-color: var(--fill-color);\n",
              "      border-left-color: var(--fill-color);\n",
              "    }\n",
              "    20% {\n",
              "      border-color: transparent;\n",
              "      border-left-color: var(--fill-color);\n",
              "      border-top-color: var(--fill-color);\n",
              "    }\n",
              "    30% {\n",
              "      border-color: transparent;\n",
              "      border-left-color: var(--fill-color);\n",
              "      border-top-color: var(--fill-color);\n",
              "      border-right-color: var(--fill-color);\n",
              "    }\n",
              "    40% {\n",
              "      border-color: transparent;\n",
              "      border-right-color: var(--fill-color);\n",
              "      border-top-color: var(--fill-color);\n",
              "    }\n",
              "    60% {\n",
              "      border-color: transparent;\n",
              "      border-right-color: var(--fill-color);\n",
              "    }\n",
              "    80% {\n",
              "      border-color: transparent;\n",
              "      border-right-color: var(--fill-color);\n",
              "      border-bottom-color: var(--fill-color);\n",
              "    }\n",
              "    90% {\n",
              "      border-color: transparent;\n",
              "      border-bottom-color: var(--fill-color);\n",
              "    }\n",
              "  }\n",
              "</style>\n",
              "\n",
              "      <script>\n",
              "        async function quickchart(key) {\n",
              "          const quickchartButtonEl =\n",
              "            document.querySelector('#' + key + ' button');\n",
              "          quickchartButtonEl.disabled = true;  // To prevent multiple clicks.\n",
              "          quickchartButtonEl.classList.add('colab-df-spinner');\n",
              "          try {\n",
              "            const charts = await google.colab.kernel.invokeFunction(\n",
              "                'suggestCharts', [key], {});\n",
              "          } catch (error) {\n",
              "            console.error('Error during call to suggestCharts:', error);\n",
              "          }\n",
              "          quickchartButtonEl.classList.remove('colab-df-spinner');\n",
              "          quickchartButtonEl.classList.add('colab-df-quickchart-complete');\n",
              "        }\n",
              "        (() => {\n",
              "          let quickchartButtonEl =\n",
              "            document.querySelector('#df-41be80a3-2ace-495b-a918-bfcc8a9ee93e button');\n",
              "          quickchartButtonEl.style.display =\n",
              "            google.colab.kernel.accessAllowed ? 'block' : 'none';\n",
              "        })();\n",
              "      </script>\n",
              "    </div>\n",
              "\n",
              "    </div>\n",
              "  </div>\n"
            ],
            "text/plain": [
              "   app_id        app_name                                        review_text  \\\n",
              "0      10  Counter-Strike                                    Ruined my life.   \n",
              "1      10  Counter-Strike  This will be more of a ''my experience with th...   \n",
              "2      10  Counter-Strike                      This game saved my virginity.   \n",
              "3      10  Counter-Strike  • Do you like original games? • Do you like ga...   \n",
              "4      10  Counter-Strike           Easy to learn, hard to master.             \n",
              "\n",
              "   review_score  review_votes  \n",
              "0             1             0  \n",
              "1             1             1  \n",
              "2             1             0  \n",
              "3             1             0  \n",
              "4             1             1  "
            ]
          },
          "execution_count": 7,
          "metadata": {},
          "output_type": "execute_result"
        }
      ],
      "source": [
        "df.head()"
      ]
    },
    {
      "cell_type": "code",
      "execution_count": null,
      "metadata": {
        "colab": {
          "base_uri": "https://localhost:8080/"
        },
        "id": "EauKs_KBo7-e",
        "outputId": "a20b5e26-639a-4451-bbb7-e7e41b59b269"
      },
      "outputs": [
        {
          "name": "stdout",
          "output_type": "stream",
          "text": [
            "<class 'pandas.core.frame.DataFrame'>\n",
            "RangeIndex: 6417106 entries, 0 to 6417105\n",
            "Data columns (total 5 columns):\n",
            " #   Column        Dtype \n",
            "---  ------        ----- \n",
            " 0   app_id        int64 \n",
            " 1   app_name      object\n",
            " 2   review_text   object\n",
            " 3   review_score  int64 \n",
            " 4   review_votes  int64 \n",
            "dtypes: int64(3), object(2)\n",
            "memory usage: 244.8+ MB\n"
          ]
        }
      ],
      "source": [
        "df.info()"
      ]
    },
    {
      "cell_type": "code",
      "execution_count": null,
      "metadata": {
        "colab": {
          "base_uri": "https://localhost:8080/"
        },
        "id": "n2-vkkShjHxc",
        "outputId": "822be678-955e-4323-ba7d-92117d4a5e30"
      },
      "outputs": [
        {
          "name": "stdout",
          "output_type": "stream",
          "text": [
            "app_id               0\n",
            "app_name        183234\n",
            "review_text       7305\n",
            "review_score         0\n",
            "review_votes         0\n",
            "dtype: int64\n"
          ]
        }
      ],
      "source": [
        "print(df.isnull().sum())"
      ]
    },
    {
      "cell_type": "code",
      "execution_count": null,
      "metadata": {
        "colab": {
          "base_uri": "https://localhost:8080/",
          "height": 479
        },
        "id": "Rw7AUgo1pKxQ",
        "outputId": "3ab17996-38c2-4870-d959-7414944217f5"
      },
      "outputs": [
        {
          "name": "stdout",
          "output_type": "stream",
          "text": [
            "review_score\n",
            " 1    81.974959\n",
            "-1    18.025041\n",
            "Name: proportion, dtype: float64\n"
          ]
        },
        {
          "data": {
            "image/png": "[encoded data removed]",
            "text/plain": [
              "<Figure size 600x400 with 1 Axes>"
            ]
          },
          "metadata": {},
          "output_type": "display_data"
        }
      ],
      "source": [
        "score_counts = df['review_score'].value_counts(normalize=True) * 100\n",
        "print(score_counts)\n",
        "\n",
        "plt.figure(figsize=(6,4))\n",
        "sns.barplot(x=score_counts.index, y=score_counts.values, palette=['red', 'green'])\n",
        "plt.xlabel('Score')\n",
        "plt.ylabel('Percentage')\n",
        "plt.title('Distribution of Review Scores')\n",
        "plt.show()"
      ]
    },
    {
      "cell_type": "markdown",
      "metadata": {
        "id": "LG1N1LvlrQBg"
      },
      "source": [
        "# **Data Preprocessing**"
      ]
    },
    {
      "cell_type": "code",
      "execution_count": null,
      "metadata": {
        "colab": {
          "base_uri": "https://localhost:8080/"
        },
        "id": "_8W8z8vRjlWz",
        "outputId": "bf48e5ef-70ad-4b45-c465-6cf0fc21f411"
      },
      "outputs": [
        {
          "name": "stdout",
          "output_type": "stream",
          "text": [
            "(6417106, 5)\n",
            "(6409801, 2)\n"
          ]
        }
      ],
      "source": [
        "# Cek jumlah data sebelum di drop\n",
        "print(df.shape)\n",
        "\n",
        "# Drop data dengan review_text yang hilang\n",
        "df.dropna(subset=['review_text'], inplace=True)\n",
        "\n",
        "# Drop app_name, app_id, dan review_votes karena tidak diperlukan\n",
        "df.drop(columns=['app_name', 'app_id', 'review_votes'], inplace=True)\n",
        "\n",
        "# Cek jumlah data sesudah di drop\n",
        "print(df.shape)"
      ]
    },
    {
      "cell_type": "code",
      "execution_count": null,
      "metadata": {
        "id": "hKPQdm3KeFPt"
      },
      "outputs": [],
      "source": [
        "import re\n",
        "\n",
        "def remove_ascii_art(text):\n",
        "    # Remove lines that mostly consist of box/line characters\n",
        "    return \"\\n\".join([line for line in text.split(\"\\n\") if not re.match(r'^[\\s█▀▄░▒▓─━╱╲═║╔╗╝╚╦╩╬]+$', line)])\n",
        "\n",
        "# Example usage\n",
        "df['review_text'] = df['review_text'].apply(remove_ascii_art)"
      ]
    },
    {
      "cell_type": "code",
      "execution_count": null,
      "metadata": {
        "id": "wQJZsHtXeWkP"
      },
      "outputs": [],
      "source": [
        "def clean_symbols(text):\n",
        "    return re.sub(r'[^\\w\\s.,!?\\'\"-]', '', text)\n",
        "\n",
        "df['review_text'] = df['review_text'].apply(clean_symbols)"
      ]
    },
    {
      "cell_type": "code",
      "execution_count": null,
      "metadata": {
        "colab": {
          "base_uri": "https://localhost:8080/"
        },
        "id": "S-0w5Fcm5LFV",
        "outputId": "5e31c26b-4a55-446c-dc84-5f374be44ecd"
      },
      "outputs": [
        {
          "name": "stdout",
          "output_type": "stream",
          "text": [
            "review_text     0\n",
            "review_score    0\n",
            "dtype: int64\n"
          ]
        }
      ],
      "source": [
        "print(df.isnull().sum())"
      ]
    },
    {
      "cell_type": "code",
      "execution_count": null,
      "metadata": {
        "colab": {
          "base_uri": "https://localhost:8080/"
        },
        "id": "BnR7XXoLcC0u",
        "outputId": "db5a2efc-c724-4a4a-bc09-1f41cf694a5d"
      },
      "outputs": [
        {
          "name": "stdout",
          "output_type": "stream",
          "text": [
            "(5385114, 2)\n",
            "review_text     0\n",
            "review_score    0\n",
            "dtype: int64\n"
          ]
        }
      ],
      "source": [
        "# Drop rows where review_text is 'Early Access Review'\n",
        "df = df[df['review_text'].str.strip() != \"Early Access Review\"]\n",
        "\n",
        "# Cek jumlah data sesudah di drop\n",
        "print(df.shape)\n",
        "print(df.isnull().sum())\n"
      ]
    },
    {
      "cell_type": "code",
      "execution_count": null,
      "metadata": {
        "colab": {
          "base_uri": "https://localhost:8080/"
        },
        "id": "myL_5lyqrVRJ",
        "outputId": "58ddf958-bf41-4537-ada8-1c75f503c0d8"
      },
      "outputs": [
        {
          "name": "stdout",
          "output_type": "stream",
          "text": [
            "review_score\n",
            "-1    50.0\n",
            " 1    50.0\n",
            "Name: proportion, dtype: float64\n",
            "(40000, 2)\n"
          ]
        }
      ],
      "source": [
        "# Ambil 20 ribu review positif dan review negatif secara acak\n",
        "df_positive = df[df['review_score'] == 1].sample(n=20000, random_state=42)\n",
        "df_negative = df[df['review_score'] == -1].sample(n=20000, random_state=42)\n",
        "\n",
        "# Gabungkan kedua subset\n",
        "df_sampled = pd.concat([df_positive, df_negative])\n",
        "\n",
        "# Shuffle data\n",
        "df_sampled = df_sampled.sample(frac=1, random_state=42).reset_index(drop=True)\n",
        "\n",
        "# Cek distribusi akhir\n",
        "print(df_sampled['review_score'].value_counts(normalize=True) * 100)\n",
        "print(df_sampled.shape)"
      ]
    },
    {
      "cell_type": "code",
      "execution_count": null,
      "metadata": {
        "colab": {
          "base_uri": "https://localhost:8080/",
          "height": 1000
        },
        "id": "ORuYgxXWslFy",
        "outputId": "76bfd38c-8358-4704-e2c2-9866618e89a4"
      },
      "outputs": [
        {
          "data": {
            "application/vnd.google.colaboratory.intrinsic+json": {
              "summary": "{\n  \"name\": \"df_sampled\",\n  \"rows\": 40000,\n  \"fields\": [\n    {\n      \"column\": \"review_text\",\n      \"properties\": {\n        \"dtype\": \"string\",\n        \"num_unique_values\": 39500,\n        \"samples\": [\n          \"  its amzing game really good i recmend to buy it\",\n          \"This game is enjoyable but their is only so much you can do in this game but after awhile you will be bored of just reading the journal that explains the currect situation you are in. price is high for a game that you only read and click but for the first couple of hours it is a decent game but not worth the price in my opinion.  6.510 IMO\",\n          \"No Man's Sky's holier-than-thou attitudes are so rife with ignorance, erroneous information, and poorly conceived notions of Machiavellianism that I hardly know where to begin. Even disregarding obvious errors like its insistence that might makes right, the fallacies of its claims are glaring to those of us who have educated ourselves about the implications of priggism. Let me make clear what is foremost on my mind and what the focus of this letter will be someone has to be willing to hammer out solutions on the anvil of discourse. Even if it's not polite to do so. Even if it hurts a lot of people's feelings. Even if everyone else is pretending that antagonism is a noble cause.  It takes more than a mass of officious drazels to stand as a witness in the divine court of the Eternal Judge and proclaim that the trait of plutomania is enlarged in No Man's Sky to the point of deformity. It takes a great many thoughtful and semi-thoughtful people who are willing to seek liberty, equality, and fraternity. Surely no argument is necessary to prove that many of the intolerant duffers I've encountered are convinced that it's illegal to get the No Man's Sky monkey off our backs and off other people's backs as wellor, if it isn't illegal, then it ought to be. This view is sticky-fingered by any stretch of the imagination and reflects how No Man's Sky's claim that the best way to reduce cognitive dissonance and restore homeostasis to one's psyche is to cause this country to flounder on the shoals of self-interest, corruption, and chaos is not only an attack on the concept of objectivity but an assault on the human mind. Although theoretical differences can be drawn between No Man's Sky's dimwitted campaigns of malice and malignity and beastly materialism, these are distinctions without a difference. If you fear that No Man's Sky's tuchungism-prone epigrams are leading toward the downfall of society, then pull out your doomsday prep list things are about to get a lot worse. I say this because once in a blue moon, which is still far too often, one encounters the lie that the eradication of No Man's Sky's competitors would restore mankind's golden age and save humanity from ruination. A quick way to refute this myth is to note that there is a simple answer to the question of what to do about No Man's Sky's drug-induced ravings. The difficult part is in implementing the answer. The answer is that we must comment on a phenomenon that has and will continue to break down traditional values.  Just wait until someone gets hurt as a result of No Man's Sky's propositions. Then, more people will agree that what we need to do next is to protect the interests of the general public against the greed and unreason of the worst types of misguided twits I've ever seen. This will be difficult if you can't trust anything or if you believe that it is not only acceptable but indeed desirable to crush the remaining vestiges of democracy throughout the world. That's why I suggest you think about how I once overheard it say something quite astonishing. Are you strapped in? It said that two wrongs make a right. Can you believe that? At least its statement made me realize that it is not only immoral but amoral.  If you think that callous poseurs are all inherently good, sensitive, creative, and inoffensive then you're suffering from very serious nearsightedness. You're focusing too much on what No Man's Sky wants you to see and failing to observe many other things of much greater importance such as that if it can one day abandon the idea of universal principles and focus illegitimately on the particular then the long descent into night is sure to follow. Before No Man's Sky once again claims that ethical responsibility is merely a trammel of earthbound mortals and should not be required of a demigod like it, it should do some real research rather than simply play a game of bias reinforcement with its supporters. Did it ever occur to No Man's Sky that its witticisms are a quick-fix detour, a placebo aimed at surface symptoms, and an excuse to feed us a fanciful load of horse manure as unassailable truth? There aren't enough hours in the day to fully answer that question, but consider this I've known a number of honorable people who have laid down their lives to let No Man's Sky know, in no uncertain terms, that it has no conception of our moral and ethical standards. Without exception, these people understood deeply that there's a chance that No Man's Sky will mute the voice of anyone who dares to speak out against it in the near future. Well, that's extremely speculative, but it is clear today that No Man's Sky's hangers-on resist seeing that No Man's Sky's odious imprecations are an insidious obstruction to that which could potentially unite us. They resist seeing such things because to see them, to examine them, to think about them and draw conclusions from them is to indicate in a rough and approximate way the two muzzy-headed tendencies that I believe are the main driving force of modern antidisestablishmentarianism.  No Man's Sky has long been selling quack pharmaceutical supplies and you should be suspicious whenever you hear such telltale words and phrases as breakthrough, miracle, secret remedy, exclusive, and clinical studies prove that. What worries me more than that, however, is that if No Man's Sky ever manages to build a totalitarian death machine, that's when the defecation will really hit the air conditioning. There are those who are informed and educated about the evils of mandarinism, and there are those who are not. No Man's Sky is one of the uninformed, naturally, and that's why it rather grandiloquently refers to me and everyone else it dislikes as a lawless scamster. Yes, I could add that it is unconstrained by conscience, but I wanted to keep my message simple and direct. I didn't want to distract you from the main thrust of my message, which is that No Man's Sky has been making a ham-handed effort to show that it is God's representative on Earth. I'm guessing that most people are starting to realize that such claims are a distortion of the truth and that we desperately need to combat these lies by giving No Man's Sky the severe tongue-lashing it deserves. Let me point out that the reader who has followed me through this lengthy letter will have been able to gather an idea of No Man's Sky's general character and disposition. Hence, I shall conclude simply by stating that No Man's Sky is lying to itself if it thinks that it has answers to everything.\"\n        ],\n        \"semantic_type\": \"\",\n        \"description\": \"\"\n      }\n    },\n    {\n      \"column\": \"review_score\",\n      \"properties\": {\n        \"dtype\": \"number\",\n        \"std\": 1,\n        \"min\": -1,\n        \"max\": 1,\n        \"num_unique_values\": 2,\n        \"samples\": [\n          1,\n          -1\n        ],\n        \"semantic_type\": \"\",\n        \"description\": \"\"\n      }\n    }\n  ]\n}",
              "type": "dataframe",
              "variable_name": "df_sampled"
            },
            "text/html": [
              "\n",
              "  <div id=\"df-352e7ab5-b021-4d1f-9e4f-18b3b3fc6000\" class=\"colab-df-container\">\n",
              "    <div>\n",
              "<style scoped>\n",
              "    .dataframe tbody tr th:only-of-type {\n",
              "        vertical-align: middle;\n",
              "    }\n",
              "\n",
              "    .dataframe tbody tr th {\n",
              "        vertical-align: top;\n",
              "    }\n",
              "\n",
              "    .dataframe thead th {\n",
              "        text-align: right;\n",
              "    }\n",
              "</style>\n",
              "<table border=\"1\" class=\"dataframe\">\n",
              "  <thead>\n",
              "    <tr style=\"text-align: right;\">\n",
              "      <th></th>\n",
              "      <th>review_text</th>\n",
              "      <th>review_score</th>\n",
              "    </tr>\n",
              "  </thead>\n",
              "  <tbody>\n",
              "    <tr>\n",
              "      <th>0</th>\n",
              "      <td>Wouldnt recomened this game ps2 version way be...</td>\n",
              "      <td>-1</td>\n",
              "    </tr>\n",
              "    <tr>\n",
              "      <th>1</th>\n",
              "      <td>This Is The Only Game That Actually Makes Me R...</td>\n",
              "      <td>1</td>\n",
              "    </tr>\n",
              "    <tr>\n",
              "      <th>2</th>\n",
              "      <td>No real updates in years.     best game ever. 100</td>\n",
              "      <td>-1</td>\n",
              "    </tr>\n",
              "    <tr>\n",
              "      <th>3</th>\n",
              "      <td>You need this game in your life. Buy it. Buy i...</td>\n",
              "      <td>1</td>\n",
              "    </tr>\n",
              "    <tr>\n",
              "      <th>4</th>\n",
              "      <td>Somebody gift it to me and i feel scamed</td>\n",
              "      <td>-1</td>\n",
              "    </tr>\n",
              "    <tr>\n",
              "      <th>5</th>\n",
              "      <td>bought played missions to main hub town, now i...</td>\n",
              "      <td>-1</td>\n",
              "    </tr>\n",
              "    <tr>\n",
              "      <th>6</th>\n",
              "      <td>To sum up my feelings. If they ask what is the...</td>\n",
              "      <td>1</td>\n",
              "    </tr>\n",
              "    <tr>\n",
              "      <th>7</th>\n",
              "      <td>Braveland is a fun game that I would reccomend...</td>\n",
              "      <td>-1</td>\n",
              "    </tr>\n",
              "    <tr>\n",
              "      <th>8</th>\n",
              "      <td>One of the greatest games ever created and one...</td>\n",
              "      <td>1</td>\n",
              "    </tr>\n",
              "    <tr>\n",
              "      <th>9</th>\n",
              "      <td>Dumbed down UI, units, and buildings from prev...</td>\n",
              "      <td>-1</td>\n",
              "    </tr>\n",
              "    <tr>\n",
              "      <th>10</th>\n",
              "      <td>Dark Souls is an incredibly challenging game, ...</td>\n",
              "      <td>-1</td>\n",
              "    </tr>\n",
              "    <tr>\n",
              "      <th>11</th>\n",
              "      <td>I'd consider myself a bit of a jrpg veteran so...</td>\n",
              "      <td>1</td>\n",
              "    </tr>\n",
              "    <tr>\n",
              "      <th>12</th>\n",
              "      <td>Dialdos, Anal Probes, Sex Clubs, Dubstep Guns,...</td>\n",
              "      <td>1</td>\n",
              "    </tr>\n",
              "    <tr>\n",
              "      <th>13</th>\n",
              "      <td>The BEST game i have played in my life. true g...</td>\n",
              "      <td>1</td>\n",
              "    </tr>\n",
              "    <tr>\n",
              "      <th>14</th>\n",
              "      <td>Seriously, UPLAY can go die in a pighole. Anno...</td>\n",
              "      <td>-1</td>\n",
              "    </tr>\n",
              "    <tr>\n",
              "      <th>15</th>\n",
              "      <td>Old but gold Can't stop playing it   810</td>\n",
              "      <td>1</td>\n",
              "    </tr>\n",
              "    <tr>\n",
              "      <th>16</th>\n",
              "      <td>like one of thee best games ever or something ...</td>\n",
              "      <td>1</td>\n",
              "    </tr>\n",
              "    <tr>\n",
              "      <th>17</th>\n",
              "      <td>Pretty cool concept, recreate a preplayed trac...</td>\n",
              "      <td>1</td>\n",
              "    </tr>\n",
              "    <tr>\n",
              "      <th>18</th>\n",
              "      <td>'Farsky is a game with one and only one task t...</td>\n",
              "      <td>-1</td>\n",
              "    </tr>\n",
              "    <tr>\n",
              "      <th>19</th>\n",
              "      <td>This game gave me AIDS</td>\n",
              "      <td>-1</td>\n",
              "    </tr>\n",
              "    <tr>\n",
              "      <th>20</th>\n",
              "      <td>All time favorite TW game. And TW games are my...</td>\n",
              "      <td>1</td>\n",
              "    </tr>\n",
              "    <tr>\n",
              "      <th>21</th>\n",
              "      <td>Best way to have no socia life. BUT i definite...</td>\n",
              "      <td>1</td>\n",
              "    </tr>\n",
              "    <tr>\n",
              "      <th>22</th>\n",
              "      <td>This game is a def 1010 amazing. BUT IT CRASHE...</td>\n",
              "      <td>-1</td>\n",
              "    </tr>\n",
              "    <tr>\n",
              "      <th>23</th>\n",
              "      <td>The AI is just too ing stupid, the Workshop di...</td>\n",
              "      <td>-1</td>\n",
              "    </tr>\n",
              "    <tr>\n",
              "      <th>24</th>\n",
              "      <td>This is may favourite game EVER made !!! I lov...</td>\n",
              "      <td>1</td>\n",
              "    </tr>\n",
              "    <tr>\n",
              "      <th>25</th>\n",
              "      <td>I've loved this game ever since I was little, ...</td>\n",
              "      <td>-1</td>\n",
              "    </tr>\n",
              "    <tr>\n",
              "      <th>26</th>\n",
              "      <td>I DOWNLOADED THIS GAME FOR TWO DAYS AND THEN I...</td>\n",
              "      <td>-1</td>\n",
              "    </tr>\n",
              "    <tr>\n",
              "      <th>27</th>\n",
              "      <td>IDK why, it seems I cant get myself to love th...</td>\n",
              "      <td>-1</td>\n",
              "    </tr>\n",
              "    <tr>\n",
              "      <th>28</th>\n",
              "      <td>Don't bother. An open world sanbox game.... wi...</td>\n",
              "      <td>-1</td>\n",
              "    </tr>\n",
              "    <tr>\n",
              "      <th>29</th>\n",
              "      <td>i cant get it to work it keeps crashing someon...</td>\n",
              "      <td>-1</td>\n",
              "    </tr>\n",
              "    <tr>\n",
              "      <th>30</th>\n",
              "      <td>I'm a conservative that keeps getting characte...</td>\n",
              "      <td>-1</td>\n",
              "    </tr>\n",
              "    <tr>\n",
              "      <th>31</th>\n",
              "      <td>100 Archivements 100 Boring.</td>\n",
              "      <td>-1</td>\n",
              "    </tr>\n",
              "    <tr>\n",
              "      <th>32</th>\n",
              "      <td>Horrible game. Without pvp servers, the game i...</td>\n",
              "      <td>-1</td>\n",
              "    </tr>\n",
              "    <tr>\n",
              "      <th>33</th>\n",
              "      <td>Keyboard can't be remapped. I get this game is...</td>\n",
              "      <td>-1</td>\n",
              "    </tr>\n",
              "    <tr>\n",
              "      <th>34</th>\n",
              "      <td>THEY TOOK ER MERDS!!!!!!!!!!!!!!!!!!!!!!!!!!!!!!!</td>\n",
              "      <td>-1</td>\n",
              "    </tr>\n",
              "    <tr>\n",
              "      <th>35</th>\n",
              "      <td>Absolutely loved the game.</td>\n",
              "      <td>1</td>\n",
              "    </tr>\n",
              "    <tr>\n",
              "      <th>36</th>\n",
              "      <td>Nope</td>\n",
              "      <td>-1</td>\n",
              "    </tr>\n",
              "    <tr>\n",
              "      <th>37</th>\n",
              "      <td>one of the most famous game, what else i need ...</td>\n",
              "      <td>1</td>\n",
              "    </tr>\n",
              "    <tr>\n",
              "      <th>38</th>\n",
              "      <td>My friends told me not to get it ha  them</td>\n",
              "      <td>1</td>\n",
              "    </tr>\n",
              "    <tr>\n",
              "      <th>39</th>\n",
              "      <td>Just want to say 1 thing......   A ING AMAZING...</td>\n",
              "      <td>1</td>\n",
              "    </tr>\n",
              "    <tr>\n",
              "      <th>40</th>\n",
              "      <td>Cool!</td>\n",
              "      <td>1</td>\n",
              "    </tr>\n",
              "    <tr>\n",
              "      <th>41</th>\n",
              "      <td>Shades of FTL mixed with some light tower defe...</td>\n",
              "      <td>1</td>\n",
              "    </tr>\n",
              "    <tr>\n",
              "      <th>42</th>\n",
              "      <td>If you can't multitask with your right hand wh...</td>\n",
              "      <td>1</td>\n",
              "    </tr>\n",
              "    <tr>\n",
              "      <th>43</th>\n",
              "      <td>grindy but a great game!! It has a lot of pote...</td>\n",
              "      <td>1</td>\n",
              "    </tr>\n",
              "    <tr>\n",
              "      <th>44</th>\n",
              "      <td>Buy it? No, stick with the regular version. Ho...</td>\n",
              "      <td>1</td>\n",
              "    </tr>\n",
              "    <tr>\n",
              "      <th>45</th>\n",
              "      <td>I'm really sad for this game it was fun, now i...</td>\n",
              "      <td>-1</td>\n",
              "    </tr>\n",
              "    <tr>\n",
              "      <th>46</th>\n",
              "      <td>So, Contagion.  I'm not a fan of twitch shoote...</td>\n",
              "      <td>1</td>\n",
              "    </tr>\n",
              "    <tr>\n",
              "      <th>47</th>\n",
              "      <td>Got stuck in a pipe, had to enable console and...</td>\n",
              "      <td>-1</td>\n",
              "    </tr>\n",
              "    <tr>\n",
              "      <th>48</th>\n",
              "      <td>This game reminded me so much of Blizzard's ge...</td>\n",
              "      <td>1</td>\n",
              "    </tr>\n",
              "    <tr>\n",
              "      <th>49</th>\n",
              "      <td>This is the best game I've ever played 1010. T...</td>\n",
              "      <td>1</td>\n",
              "    </tr>\n",
              "  </tbody>\n",
              "</table>\n",
              "</div>\n",
              "    <div class=\"colab-df-buttons\">\n",
              "\n",
              "  <div class=\"colab-df-container\">\n",
              "    <button class=\"colab-df-convert\" onclick=\"convertToInteractive('df-352e7ab5-b021-4d1f-9e4f-18b3b3fc6000')\"\n",
              "            title=\"Convert this dataframe to an interactive table.\"\n",
              "            style=\"display:none;\">\n",
              "\n",
              "  <svg xmlns=\"http://www.w3.org/2000/svg\" height=\"24px\" viewBox=\"0 -960 960 960\">\n",
              "    <path d=\"M120-120v-720h720v720H120Zm60-500h600v-160H180v160Zm220 220h160v-160H400v160Zm0 220h160v-160H400v160ZM180-400h160v-160H180v160Zm440 0h160v-160H620v160ZM180-180h160v-160H180v160Zm440 0h160v-160H620v160Z\"/>\n",
              "  </svg>\n",
              "    </button>\n",
              "\n",
              "  <style>\n",
              "    .colab-df-container {\n",
              "      display:flex;\n",
              "      gap: 12px;\n",
              "    }\n",
              "\n",
              "    .colab-df-convert {\n",
              "      background-color: #E8F0FE;\n",
              "      border: none;\n",
              "      border-radius: 50%;\n",
              "      cursor: pointer;\n",
              "      display: none;\n",
              "      fill: #1967D2;\n",
              "      height: 32px;\n",
              "      padding: 0 0 0 0;\n",
              "      width: 32px;\n",
              "    }\n",
              "\n",
              "    .colab-df-convert:hover {\n",
              "      background-color: #E2EBFA;\n",
              "      box-shadow: 0px 1px 2px rgba(60, 64, 67, 0.3), 0px 1px 3px 1px rgba(60, 64, 67, 0.15);\n",
              "      fill: #174EA6;\n",
              "    }\n",
              "\n",
              "    .colab-df-buttons div {\n",
              "      margin-bottom: 4px;\n",
              "    }\n",
              "\n",
              "    [theme=dark] .colab-df-convert {\n",
              "      background-color: #3B4455;\n",
              "      fill: #D2E3FC;\n",
              "    }\n",
              "\n",
              "    [theme=dark] .colab-df-convert:hover {\n",
              "      background-color: #434B5C;\n",
              "      box-shadow: 0px 1px 3px 1px rgba(0, 0, 0, 0.15);\n",
              "      filter: drop-shadow(0px 1px 2px rgba(0, 0, 0, 0.3));\n",
              "      fill: #FFFFFF;\n",
              "    }\n",
              "  </style>\n",
              "\n",
              "    <script>\n",
              "      const buttonEl =\n",
              "        document.querySelector('#df-352e7ab5-b021-4d1f-9e4f-18b3b3fc6000 button.colab-df-convert');\n",
              "      buttonEl.style.display =\n",
              "        google.colab.kernel.accessAllowed ? 'block' : 'none';\n",
              "\n",
              "      async function convertToInteractive(key) {\n",
              "        const element = document.querySelector('#df-352e7ab5-b021-4d1f-9e4f-18b3b3fc6000');\n",
              "        const dataTable =\n",
              "          await google.colab.kernel.invokeFunction('convertToInteractive',\n",
              "                                                    [key], {});\n",
              "        if (!dataTable) return;\n",
              "\n",
              "        const docLinkHtml = 'Like what you see? Visit the ' +\n",
              "          '<a target=\"_blank\" href=https://colab.research.google.com/notebooks/data_table.ipynb>data table notebook</a>'\n",
              "          + ' to learn more about interactive tables.';\n",
              "        element.innerHTML = '';\n",
              "        dataTable['output_type'] = 'display_data';\n",
              "        await google.colab.output.renderOutput(dataTable, element);\n",
              "        const docLink = document.createElement('div');\n",
              "        docLink.innerHTML = docLinkHtml;\n",
              "        element.appendChild(docLink);\n",
              "      }\n",
              "    </script>\n",
              "  </div>\n",
              "\n",
              "\n",
              "    <div id=\"df-d27cfb2f-1644-4e99-8e96-ed67da68e7d9\">\n",
              "      <button class=\"colab-df-quickchart\" onclick=\"quickchart('df-d27cfb2f-1644-4e99-8e96-ed67da68e7d9')\"\n",
              "                title=\"Suggest charts\"\n",
              "                style=\"display:none;\">\n",
              "\n",
              "<svg xmlns=\"http://www.w3.org/2000/svg\" height=\"24px\"viewBox=\"0 0 24 24\"\n",
              "     width=\"24px\">\n",
              "    <g>\n",
              "        <path d=\"M19 3H5c-1.1 0-2 .9-2 2v14c0 1.1.9 2 2 2h14c1.1 0 2-.9 2-2V5c0-1.1-.9-2-2-2zM9 17H7v-7h2v7zm4 0h-2V7h2v10zm4 0h-2v-4h2v4z\"/>\n",
              "    </g>\n",
              "</svg>\n",
              "      </button>\n",
              "\n",
              "<style>\n",
              "  .colab-df-quickchart {\n",
              "      --bg-color: #E8F0FE;\n",
              "      --fill-color: #1967D2;\n",
              "      --hover-bg-color: #E2EBFA;\n",
              "      --hover-fill-color: #174EA6;\n",
              "      --disabled-fill-color: #AAA;\n",
              "      --disabled-bg-color: #DDD;\n",
              "  }\n",
              "\n",
              "  [theme=dark] .colab-df-quickchart {\n",
              "      --bg-color: #3B4455;\n",
              "      --fill-color: #D2E3FC;\n",
              "      --hover-bg-color: #434B5C;\n",
              "      --hover-fill-color: #FFFFFF;\n",
              "      --disabled-bg-color: #3B4455;\n",
              "      --disabled-fill-color: #666;\n",
              "  }\n",
              "\n",
              "  .colab-df-quickchart {\n",
              "    background-color: var(--bg-color);\n",
              "    border: none;\n",
              "    border-radius: 50%;\n",
              "    cursor: pointer;\n",
              "    display: none;\n",
              "    fill: var(--fill-color);\n",
              "    height: 32px;\n",
              "    padding: 0;\n",
              "    width: 32px;\n",
              "  }\n",
              "\n",
              "  .colab-df-quickchart:hover {\n",
              "    background-color: var(--hover-bg-color);\n",
              "    box-shadow: 0 1px 2px rgba(60, 64, 67, 0.3), 0 1px 3px 1px rgba(60, 64, 67, 0.15);\n",
              "    fill: var(--button-hover-fill-color);\n",
              "  }\n",
              "\n",
              "  .colab-df-quickchart-complete:disabled,\n",
              "  .colab-df-quickchart-complete:disabled:hover {\n",
              "    background-color: var(--disabled-bg-color);\n",
              "    fill: var(--disabled-fill-color);\n",
              "    box-shadow: none;\n",
              "  }\n",
              "\n",
              "  .colab-df-spinner {\n",
              "    border: 2px solid var(--fill-color);\n",
              "    border-color: transparent;\n",
              "    border-bottom-color: var(--fill-color);\n",
              "    animation:\n",
              "      spin 1s steps(1) infinite;\n",
              "  }\n",
              "\n",
              "  @keyframes spin {\n",
              "    0% {\n",
              "      border-color: transparent;\n",
              "      border-bottom-color: var(--fill-color);\n",
              "      border-left-color: var(--fill-color);\n",
              "    }\n",
              "    20% {\n",
              "      border-color: transparent;\n",
              "      border-left-color: var(--fill-color);\n",
              "      border-top-color: var(--fill-color);\n",
              "    }\n",
              "    30% {\n",
              "      border-color: transparent;\n",
              "      border-left-color: var(--fill-color);\n",
              "      border-top-color: var(--fill-color);\n",
              "      border-right-color: var(--fill-color);\n",
              "    }\n",
              "    40% {\n",
              "      border-color: transparent;\n",
              "      border-right-color: var(--fill-color);\n",
              "      border-top-color: var(--fill-color);\n",
              "    }\n",
              "    60% {\n",
              "      border-color: transparent;\n",
              "      border-right-color: var(--fill-color);\n",
              "    }\n",
              "    80% {\n",
              "      border-color: transparent;\n",
              "      border-right-color: var(--fill-color);\n",
              "      border-bottom-color: var(--fill-color);\n",
              "    }\n",
              "    90% {\n",
              "      border-color: transparent;\n",
              "      border-bottom-color: var(--fill-color);\n",
              "    }\n",
              "  }\n",
              "</style>\n",
              "\n",
              "      <script>\n",
              "        async function quickchart(key) {\n",
              "          const quickchartButtonEl =\n",
              "            document.querySelector('#' + key + ' button');\n",
              "          quickchartButtonEl.disabled = true;  // To prevent multiple clicks.\n",
              "          quickchartButtonEl.classList.add('colab-df-spinner');\n",
              "          try {\n",
              "            const charts = await google.colab.kernel.invokeFunction(\n",
              "                'suggestCharts', [key], {});\n",
              "          } catch (error) {\n",
              "            console.error('Error during call to suggestCharts:', error);\n",
              "          }\n",
              "          quickchartButtonEl.classList.remove('colab-df-spinner');\n",
              "          quickchartButtonEl.classList.add('colab-df-quickchart-complete');\n",
              "        }\n",
              "        (() => {\n",
              "          let quickchartButtonEl =\n",
              "            document.querySelector('#df-d27cfb2f-1644-4e99-8e96-ed67da68e7d9 button');\n",
              "          quickchartButtonEl.style.display =\n",
              "            google.colab.kernel.accessAllowed ? 'block' : 'none';\n",
              "        })();\n",
              "      </script>\n",
              "    </div>\n",
              "\n",
              "    </div>\n",
              "  </div>\n"
            ],
            "text/plain": [
              "                                          review_text  review_score\n",
              "0   Wouldnt recomened this game ps2 version way be...            -1\n",
              "1   This Is The Only Game That Actually Makes Me R...             1\n",
              "2   No real updates in years.     best game ever. 100            -1\n",
              "3   You need this game in your life. Buy it. Buy i...             1\n",
              "4            Somebody gift it to me and i feel scamed            -1\n",
              "5   bought played missions to main hub town, now i...            -1\n",
              "6   To sum up my feelings. If they ask what is the...             1\n",
              "7   Braveland is a fun game that I would reccomend...            -1\n",
              "8   One of the greatest games ever created and one...             1\n",
              "9   Dumbed down UI, units, and buildings from prev...            -1\n",
              "10  Dark Souls is an incredibly challenging game, ...            -1\n",
              "11  I'd consider myself a bit of a jrpg veteran so...             1\n",
              "12  Dialdos, Anal Probes, Sex Clubs, Dubstep Guns,...             1\n",
              "13  The BEST game i have played in my life. true g...             1\n",
              "14  Seriously, UPLAY can go die in a pighole. Anno...            -1\n",
              "15           Old but gold Can't stop playing it   810             1\n",
              "16  like one of thee best games ever or something ...             1\n",
              "17  Pretty cool concept, recreate a preplayed trac...             1\n",
              "18  'Farsky is a game with one and only one task t...            -1\n",
              "19                             This game gave me AIDS            -1\n",
              "20  All time favorite TW game. And TW games are my...             1\n",
              "21  Best way to have no socia life. BUT i definite...             1\n",
              "22  This game is a def 1010 amazing. BUT IT CRASHE...            -1\n",
              "23  The AI is just too ing stupid, the Workshop di...            -1\n",
              "24  This is may favourite game EVER made !!! I lov...             1\n",
              "25  I've loved this game ever since I was little, ...            -1\n",
              "26  I DOWNLOADED THIS GAME FOR TWO DAYS AND THEN I...            -1\n",
              "27  IDK why, it seems I cant get myself to love th...            -1\n",
              "28  Don't bother. An open world sanbox game.... wi...            -1\n",
              "29  i cant get it to work it keeps crashing someon...            -1\n",
              "30  I'm a conservative that keeps getting characte...            -1\n",
              "31                      100 Archivements 100 Boring.             -1\n",
              "32  Horrible game. Without pvp servers, the game i...            -1\n",
              "33  Keyboard can't be remapped. I get this game is...            -1\n",
              "34  THEY TOOK ER MERDS!!!!!!!!!!!!!!!!!!!!!!!!!!!!!!!            -1\n",
              "35                         Absolutely loved the game.             1\n",
              "36                                               Nope            -1\n",
              "37  one of the most famous game, what else i need ...             1\n",
              "38          My friends told me not to get it ha  them             1\n",
              "39  Just want to say 1 thing......   A ING AMAZING...             1\n",
              "40                                              Cool!             1\n",
              "41  Shades of FTL mixed with some light tower defe...             1\n",
              "42  If you can't multitask with your right hand wh...             1\n",
              "43  grindy but a great game!! It has a lot of pote...             1\n",
              "44  Buy it? No, stick with the regular version. Ho...             1\n",
              "45  I'm really sad for this game it was fun, now i...            -1\n",
              "46  So, Contagion.  I'm not a fan of twitch shoote...             1\n",
              "47  Got stuck in a pipe, had to enable console and...            -1\n",
              "48  This game reminded me so much of Blizzard's ge...             1\n",
              "49  This is the best game I've ever played 1010. T...             1"
            ]
          },
          "execution_count": 17,
          "metadata": {},
          "output_type": "execute_result"
        }
      ],
      "source": [
        "df_sampled.head(50)"
      ]
    },
    {
      "cell_type": "code",
      "execution_count": null,
      "metadata": {
        "id": "bHr_lXWnrbjf"
      },
      "outputs": [],
      "source": [
        "slang_dict = {\n",
        "    \"gg\": \"good game\",\n",
        "    \"wp\": \"well played\",\n",
        "    \"glhf\": \"good luck have fun\",\n",
        "    \"nt\": \"nice try\",\n",
        "    \"ez\": \"easy\",\n",
        "    \"brb\": \"be right back\",\n",
        "    \"afk\": \"away from keyboard\",\n",
        "    \"np\": \"no problem\",\n",
        "    \"ty\": \"thank you\",\n",
        "    \"thx\": \"thanks\",\n",
        "    \"idk\": \"I don't know\",\n",
        "    \"idc\": \"I don't care\",\n",
        "    \"imo\": \"in my opinion\",\n",
        "    \"imho\": \"in my humble opinion\",\n",
        "    \"btw\": \"by the way\",\n",
        "    \"fyi\": \"for your information\",\n",
        "    \"tbh\": \"to be honest\",\n",
        "    \"smh\": \"shaking my head\",\n",
        "    \"lmao\": \"laughing my ass off\",\n",
        "    \"lol\": \"laugh out loud\",\n",
        "    \"rofl\": \"rolling on the floor laughing\",\n",
        "    \"omg\": \"oh my god\",\n",
        "    \"wtf\": \"what the fuck\",\n",
        "    \"wth\": \"what the hell\",\n",
        "    \"ikr\": \"I know right\",\n",
        "    \"tfw\": \"that feeling when\",\n",
        "    \"tgif\": \"thank god it's friday\",\n",
        "    \"bff\": \"best friends forever\",\n",
        "    \"hmu\": \"hit me up\",\n",
        "    \"dm\": \"direct message\",\n",
        "    \"irl\": \"in real life\",\n",
        "    \"ftw\": \"for the win\",\n",
        "    \"nvm\": \"never mind\",\n",
        "    \"jk\": \"just kidding\",\n",
        "    \"ggwp\": \"good game well played\",\n",
        "    \"gl\": \"good luck\",\n",
        "    \"hf\": \"have fun\",\n",
        "    \"roflmao\": \"rolling on the floor laughing my ass off\",\n",
        "    \"stfu\": \"shut the fuck up\",\n",
        "    \"gtg\": \"got to go\",\n",
        "    \"ttyl\": \"talk to you later\",\n",
        "    \"asap\": \"as soon as possible\",\n",
        "    \"g2g\": \"got to go\",\n",
        "    \"wyd\": \"what are you doing\",\n",
        "    \"wya\": \"where are you at\",\n",
        "    \"tho\": \"though\",\n",
        "    \"u\": \"you\",\n",
        "    \"r\": \"are\",\n",
        "    \"ur\": \"your\",\n",
        "    \"bday\": \"birthday\",\n",
        "    \"pls\": \"please\",\n",
        "    \"ppl\": \"people\",\n",
        "    \"thx\": \"thanks\",\n",
        "    \"cuz\": \"because\",\n",
        "    \"gr8\": \"great\",\n",
        "    \"luv\": \"love\",\n",
        "    \"yolo\": \"you only live once\",\n",
        "    \"fomo\": \"fear of missing out\",\n",
        "    \"sry\": \"sorry\",\n",
        "    \"np\": \"no problem\",\n",
        "    \"jk\": \"just kidding\",\n",
        "    \"xoxo\": \"hugs and kisses\",\n",
        "    \"ily\": \"I love you\",\n",
        "    \"idgaf\": \"I don't give a fuck\",\n",
        "    \"lmfao\": \"laughing my fucking ass off\",\n",
        "    \"fml\": \"fuck my life\",\n",
        "    \"ggnoob\": \"good game, noob\",\n",
        "    \"rekt\": \"wrecked\",\n",
        "    \"noob\": \"newbie\",\n",
        "    \"nerf\": \"make weaker\",\n",
        "    \"buff\": \"make stronger\",\n",
        "    \"op\": \"overpowered\",\n",
        "    \"meta\": \"most effective tactic available\",\n",
        "    \"fps\": \"frames per second\",\n",
        "    \"rpg\": \"role-playing game\",\n",
        "    \"mmo\": \"massively multiplayer online\",\n",
        "    \"npc\": \"non-playable character\",\n",
        "    \"pvp\": \"player versus player\",\n",
        "    \"pve\": \"player versus environment\",\n",
        "    \"af\": \"as fuck\",\n",
        "    \"oof\": \"expression of pain or disappointment\",\n",
        "    \"sus\": \"suspicious\",\n",
        "    \"pog\": \"play of the game\",\n",
        "    \"kek\": \"laughing\",\n",
        "    \"xd\": \"laughing face\",\n",
        "    \"lel\": \"laughing\",\n",
        "    \"smol\": \"small and cute\",\n",
        "    \"based\": \"confident and unapologetic\",\n",
        "    \"copium\": \"coping mechanism\",\n",
        "    \"ratio\": \"more replies than likes\",\n",
        "    \"goat\": \"greatest of all time\",\n",
        "    \"cap\": \"lie\",\n",
        "    \"no cap\": \"no lie\",\n",
        "    \"bussin\": \"very good\",\n",
        "    \"drip\": \"cool outfit\",\n",
        "    \"simp\": \"obsessive admirer\",\n",
        "    \"chad\": \"confident and attractive male\",\n",
        "    \"karen\": \"entitled and demanding person\",\n",
        "    \"malding\": \"mad and balding\",\n",
        "    \"cringe\": \"embarrassing\",\n",
        "    \"vibe\": \"mood or atmosphere\",\n",
        "    \"stan\": \"obsessive fan\",\n",
        "    \"dogwater\": \"bad, worthless\",\n",
        "    \"sweaty\": \"tryhard\",\n",
        "    \"clutch\": \"decisive and important play\",\n",
        "    \"dps\": \"damage per second\",\n",
        "    \"gg ez\": \"good game, easy\",\n",
        "    \"troll\": \"deliberately annoying or misleading\",\n",
        "    \"toxic\": \"overly negative or aggressive\",\n",
        "    \"smurf\": \"high-rank player using a low-rank account\",\n",
        "    \"lag\": \"slow network response\",\n",
        "    \"ping\": \"network latency\",\n",
        "    \"adc\": \"attack damage carry\",\n",
        "    \"tank\": \"absorbs damage\",\n",
        "    \"jungler\": \"roams and kills jungle monsters\",\n",
        "    \"mid\": \"middle lane player\",\n",
        "    \"bot\": \"bottom lane player\",\n",
        "    \"top\": \"top lane player\",\n",
        "    \"hard carry\": \"player who carries the team\",\n",
        "    \"inting\": \"intentionally feeding\",\n",
        "    \"feeding\": \"dying repeatedly to enemies\",\n",
        "    \"ks\": \"kill steal\",\n",
        "    \"cs\": \"creep score\",\n",
        "    \"farm\": \"killing minions or jungle monsters\",\n",
        "    \"snowball\": \"gaining a lead and increasing it\",\n",
        "    \"gank\": \"ambush in-game\",\n",
        "    \"pepega\": \"stupid or clueless\",\n",
        "    \"monkaS\": \"scary or intense moment\",\n",
        "    \"feelsbadman\": \"sadness\",\n",
        "    \"feelsgoodman\": \"happiness\",\n",
        "    \"weeb\": \"anime enthusiast\",\n",
        "    \"otaku\": \"dedicated anime or gaming fan\",\n",
        "    \"baka\": \"idiot\"\n",
        "}"
      ]
    },
    {
      "cell_type": "code",
      "execution_count": null,
      "metadata": {
        "id": "Jgl1Xa3cldqU"
      },
      "outputs": [],
      "source": [
        "def preprocess(text):\n",
        "  text = emoji.demojize(text, delimiters=(\" \", \" \")) # Mengubah emoji menjadi kata\n",
        "  words = text.split()\n",
        "  words = [slang_dict.get(word.lower(), word) for word in words] # Mengubah kata slang menjadi kata baku\n",
        "  words = [lemmatizer.lemmatize(word) for word in words] # Mengubah kata menjadi kata dasar\n",
        "\n",
        "  return ' '.join(words)"
      ]
    },
    {
      "cell_type": "code",
      "execution_count": null,
      "metadata": {
        "colab": {
          "base_uri": "https://localhost:8080/",
          "height": 66,
          "referenced_widgets": [
            "8b7a9a469f1e42b8a273df6d9173245c",
            "3284e0516cbc4a1dbf879f34efc81a8f",
            "34b22ed8aaa841c082bfc4d75347b440",
            "b697a9230c394a2f90808d9317011c60",
            "877613be6b7d42e6824ad031552a6a34",
            "88255fecd25f489d9fbec627e9ee8457",
            "c98bdb5da5d743a5b15313b316913ae0",
            "55f6ca950020454e9022f4c3713f8dc2",
            "6c440d4ae2874c469c514bcaf42c5384",
            "6bb54dc6dac04ef983c5845050795ff6",
            "4098f41a673a4d98a64e842fac423f7b"
          ]
        },
        "id": "t9tiT0NRtwig",
        "outputId": "31f05625-b0e9-4395-927b-dbd3d11d0ba8"
      },
      "outputs": [
        {
          "name": "stdout",
          "output_type": "stream",
          "text": [
            "Preprocessing dataset...\n"
          ]
        },
        {
          "data": {
            "application/vnd.jupyter.widget-view+json": {
              "model_id": "8b7a9a469f1e42b8a273df6d9173245c",
              "version_major": 2,
              "version_minor": 0
            },
            "text/plain": [
              "Pandas Apply:   0%|          | 0/40000 [00:00<?, ?it/s]"
            ]
          },
          "metadata": {},
          "output_type": "display_data"
        }
      ],
      "source": [
        "# Jika file belum ada, lakukan preprocessing dan simpan\n",
        "if not os.path.exists(\"/content/drive/MyDrive/Datasets/preprocessed_reviews.csv\"):\n",
        "  print(\"Preprocessing dataset...\")\n",
        "  df_sampled['review_text'] = df_sampled['review_text'].swifter.apply(preprocess)\n",
        "\n",
        "  # Mengubah label -1 menjadi 0\n",
        "  df_sampled[\"review_score\"] = df_sampled[\"review_score\"].replace({-1: 0, 1: 1}).astype(int)\n",
        "\n",
        "  df_sampled.to_csv(\"/content/drive/MyDrive/Datasets/preprocessed_reviews.csv\", index=False)\n",
        "\n",
        "else:\n",
        "  df_sampled = pd.read_csv(\"/content/drive/MyDrive/Datasets/preprocessed_reviews.csv\")\n",
        "  print(\"Dataset is loaded completely\")"
      ]
    },
    {
      "cell_type": "code",
      "execution_count": null,
      "metadata": {
        "colab": {
          "base_uri": "https://localhost:8080/"
        },
        "id": "E3FwJpNxtWfL",
        "outputId": "2e55df42-5d17-4214-a07f-6ab8ef7d74f7"
      },
      "outputs": [
        {
          "data": {
            "text/plain": [
              "2868"
            ]
          },
          "execution_count": 21,
          "metadata": {},
          "output_type": "execute_result"
        }
      ],
      "source": [
        "del df\n",
        "import gc; gc.collect()"
      ]
    },
    {
      "cell_type": "markdown",
      "metadata": {
        "id": "6232fvTwXy5Q"
      },
      "source": [
        "# **Modeling**"
      ]
    },
    {
      "cell_type": "code",
      "execution_count": null,
      "metadata": {
        "id": "jBwtepbc2FZc"
      },
      "outputs": [],
      "source": [
        "# Bagi data menjadi training (80%), validation (10%), dan testing (10%)\n",
        "train_data, test_data = train_test_split(df_sampled, test_size=0.2, random_state=42)\n",
        "val_data, test_data = train_test_split(test_data, test_size=0.5, random_state=42)  # Masing-masing 10%\n",
        "\n",
        "# Konversi ke Hugging Face Dataset\n",
        "train_dataset = Dataset.from_pandas(train_data)\n",
        "val_dataset = Dataset.from_pandas(val_data)\n",
        "test_dataset = Dataset.from_pandas(test_data)"
      ]
    },
    {
      "cell_type": "code",
      "execution_count": null,
      "metadata": {
        "id": "x5vQEDv_DHOF"
      },
      "outputs": [],
      "source": [
        "# Metrics Function\n",
        "def compute_metrics(pred: EvalPrediction):\n",
        "    preds = pred.predictions.argmax(-1)\n",
        "    labels = pred.label_ids\n",
        "    acc = accuracy_score(labels, preds)\n",
        "    f1 = f1_score(labels, preds, average=\"weighted\")\n",
        "    return {\"accuracy\": acc, \"f1\": f1}"
      ]
    },
    {
      "cell_type": "code",
      "execution_count": null,
      "metadata": {
        "id": "V7lnAV1wZGCN"
      },
      "outputs": [],
      "source": [
        "# Pindahkan model ke GPU\n",
        "device = torch.device(\"cuda\" if torch.cuda.is_available() else \"cpu\")"
      ]
    },
    {
      "cell_type": "code",
      "execution_count": null,
      "metadata": {
        "id": "QfJ7mmlScZai"
      },
      "outputs": [],
      "source": [
        "os.environ[\"WANDB_DISABLED\"] = \"true\""
      ]
    },
    {
      "cell_type": "markdown",
      "metadata": {
        "id": "Cmd8Q5dIXKzr"
      },
      "source": [
        "**TinyBERT**"
      ]
    },
    {
      "cell_type": "code",
      "execution_count": null,
      "metadata": {
        "id": "-6WTVkPmDQUF"
      },
      "outputs": [],
      "source": [
        "# Tokenization menggunakan map (lebih cepat daripada loop biasa)\n",
        "def tokenize_function_tinybert(examples):\n",
        "    return tokenizer_tinybert(\n",
        "        examples[\"review_text\"],\n",
        "        padding=\"max_length\",\n",
        "        truncation=True,\n",
        "        max_length=128\n",
        "    )\n",
        "\n",
        "# Tokenisasi dan formatting semua split\n",
        "def prepare_dataset_tinybert(ds):\n",
        "    ds = ds.map(tokenize_function_tinybert, batched=True)\n",
        "    if \"review_text\" in ds.column_names:\n",
        "        ds = ds.remove_columns([\"review_text\"])\n",
        "    if \"__index_level_0__\" in ds.column_names:\n",
        "        ds = ds.remove_columns([\"__index_level_0__\"])\n",
        "    ds = ds.rename_column(\"review_score\", \"labels\")\n",
        "    ds = ds.cast_column(\"labels\", datasets.Value(\"int64\"))\n",
        "\n",
        "    ds.set_format(\"torch\")\n",
        "    return ds"
      ]
    },
    {
      "cell_type": "code",
      "execution_count": null,
      "metadata": {
        "colab": {
          "base_uri": "https://localhost:8080/",
          "height": 315
        },
        "id": "dt-S2-FYG1O9",
        "outputId": "49a3599d-925c-441f-826d-5004299adf81"
      },
      "outputs": [
        {
          "name": "stdout",
          "output_type": "stream",
          "text": [
            "Model dan tokenizer sudah ada, langsung load...\n"
          ]
        },
        {
          "name": "stderr",
          "output_type": "stream",
          "text": [
            "Using the `WANDB_DISABLED` environment variable is deprecated and will be removed in v5. Use the --report_to flag to control the integrations used for logging result (for instance --report_to none).\n"
          ]
        },
        {
          "data": {
            "text/html": [],
            "text/plain": [
              "<IPython.core.display.HTML object>"
            ]
          },
          "metadata": {},
          "output_type": "display_data"
        },
        {
          "name": "stdout",
          "output_type": "stream",
          "text": [
            "\n",
            "Test Evaluation:\n",
            "{'eval_loss': 0.31852397322654724, 'eval_model_preparation_time': 0.0013, 'eval_accuracy': 0.8705, 'eval_f1': 0.870501003866179, 'eval_runtime': 3.9083, 'eval_samples_per_second': 1023.474, 'eval_steps_per_second': 127.934}\n",
            "\n",
            "Classification Report:\n",
            "              precision    recall  f1-score   support\n",
            "\n",
            "           0     0.8729    0.8720    0.8725      2032\n",
            "           1     0.8680    0.8689    0.8685      1968\n",
            "\n",
            "    accuracy                         0.8705      4000\n",
            "   macro avg     0.8705    0.8705    0.8705      4000\n",
            "weighted avg     0.8705    0.8705    0.8705      4000\n",
            "\n"
          ]
        }
      ],
      "source": [
        "# @title Paths for TinyBERT Model and Datasets\n",
        "MODEL_SAVE_PATH = \"/content/models/tinybert\"\n",
        "train_path = \"/content/datasets/train_dataset_tinybert\" # Juga gunakan path umum\n",
        "val_path = \"/content/datasets/val_dataset_tinybert\"\n",
        "test_path = \"/content/datasets/test_dataset_tinybert\"\n",
        "\n",
        "# Pastikan direktori ada\n",
        "import os\n",
        "os.makedirs(MODEL_SAVE_PATH, exist_ok=True)\n",
        "os.makedirs(\"/content/datasets\", exist_ok=True) # Buat direktori untuk dataset\n",
        "\n",
        "if os.path.exists(MODEL_SAVE_PATH):\n",
        "    print(\"Model dan tokenizer sudah ada, langsung load...\")\n",
        "\n",
        "    model_tinybert = AutoModelForSequenceClassification.from_pretrained(MODEL_SAVE_PATH)\n",
        "    tokenizer_tinybert = AutoTokenizer.from_pretrained(MODEL_SAVE_PATH)\n",
        "\n",
        "    test_dataset_tinybert = load_from_disk(test_path)\n",
        "\n",
        "    trainer_tinybert = Trainer(\n",
        "        model=model_tinybert,\n",
        "        tokenizer=tokenizer_tinybert,\n",
        "        compute_metrics=compute_metrics,\n",
        "    )\n",
        "\n",
        "    # Evaluate\n",
        "    test_results = trainer_tinybert.evaluate(test_dataset_tinybert)\n",
        "    print(\"\\nTest Evaluation:\")\n",
        "    print(test_results)\n",
        "\n",
        "    predictions = trainer_tinybert.predict(test_dataset_tinybert)\n",
        "    pred_labels = predictions.predictions.argmax(-1)\n",
        "    true_labels = predictions.label_ids\n",
        "\n",
        "    from sklearn.metrics import classification_report\n",
        "    print(\"\\nClassification Report:\")\n",
        "    print(classification_report(true_labels, pred_labels, digits=4))\n",
        "\n",
        "else:\n",
        "    print(\"Model belum ada, mulai proses training...\")\n",
        "\n",
        "    MODEL_NAME_TINYBERT = \"huawei-noah/TinyBERT_General_4L_312D\"\n",
        "    tokenizer_tinybert = AutoTokenizer.from_pretrained(MODEL_NAME_TINYBERT)\n",
        "    model_tinybert = AutoModelForSequenceClassification.from_pretrained(MODEL_NAME_TINYBERT, num_labels=2)\n",
        "\n",
        "    model_tinybert.to(device)\n",
        "\n",
        "    if all(os.path.exists(p) for p in [train_path, val_path, test_path]):\n",
        "        print(\"Dataset sudah ada, langsung load dari Drive...\")\n",
        "        train_dataset_tinybert = load_from_disk(train_path)\n",
        "        val_dataset_tinybert = load_from_disk(val_path)\n",
        "        test_dataset_tinybert = load_from_disk(test_path)\n",
        "    else:\n",
        "        print(\"Dataset belum ada, mulai preprocessing...\")\n",
        "        train_dataset_tinybert = prepare_dataset_tinybert(train_dataset)\n",
        "        val_dataset_tinybert = prepare_dataset_tinybert(val_dataset)\n",
        "        test_dataset_tinybert = prepare_dataset_tinybert(test_dataset)\n",
        "\n",
        "        train_dataset_tinybert.save_to_disk(train_path)\n",
        "        val_dataset_tinybert.save_to_disk(val_path)\n",
        "        test_dataset_tinybert.save_to_disk(test_path)\n",
        "\n",
        "    training_args = TrainingArguments(\n",
        "        output_dir=MODEL_SAVE_PATH,\n",
        "        eval_strategy=\"epoch\",\n",
        "        save_strategy=\"epoch\",\n",
        "        logging_strategy=\"steps\",\n",
        "        logging_steps=100,\n",
        "        learning_rate=2e-5,\n",
        "        per_device_train_batch_size=16,\n",
        "        per_device_eval_batch_size=32,\n",
        "        num_train_epochs=5,\n",
        "        weight_decay=0.01,\n",
        "        load_best_model_at_end=True,\n",
        "        metric_for_best_model=\"f1\",\n",
        "        save_total_limit=3,\n",
        "        report_to=\"none\",\n",
        "    )\n",
        "\n",
        "    trainer_tinybert = Trainer(\n",
        "        model=model_tinybert,\n",
        "        args=training_args,\n",
        "        train_dataset=train_dataset_tinybert,\n",
        "        eval_dataset=val_dataset_tinybert,\n",
        "        tokenizer=tokenizer_tinybert,\n",
        "        compute_metrics=compute_metrics,\n",
        "    )\n",
        "\n",
        "    # Resume from checkpoint if any\n",
        "    last_checkpoint = None\n",
        "    if os.path.isdir(MODEL_SAVE_PATH):\n",
        "        checkpoints = [os.path.join(MODEL_SAVE_PATH_BERT, d) for d in os.listdir(MODEL_SAVE_PATH) if d.startswith(\"checkpoint\")]\n",
        "        if checkpoints:\n",
        "            last_checkpoint = max(checkpoints, key=os.path.getmtime)\n",
        "\n",
        "    if last_checkpoint:\n",
        "        print(f\"Resume from checkpoint: {last_checkpoint}\")\n",
        "        trainer_tinybert.train(resume_from_checkpoint=last_checkpoint)\n",
        "    else:\n",
        "        print(\"Start training from scratch...\")\n",
        "        trainer_tinybert.train()\n",
        "\n",
        "    # Save final model & tokenizer\n",
        "    model_tinybert.save_pretrained(MODEL_SAVE_PATH)\n",
        "    tokenizer_tinybert.save_pretrained(MODEL_SAVE_PATH)"
      ]
    },
    {
      "cell_type": "markdown",
      "metadata": {
        "id": "8WI3_NLRcNku"
      },
      "source": [
        "**BERT-base**"
      ]
    },
    {
      "cell_type": "code",
      "execution_count": null,
      "metadata": {
        "id": "cPDwZJ--chS_"
      },
      "outputs": [],
      "source": [
        "# Tokenization menggunakan map (lebih cepat daripada loop biasa)\n",
        "def tokenize_function_bert(examples):\n",
        "    return tokenizer_bert(\n",
        "        examples[\"review_text\"],\n",
        "        padding=\"max_length\",\n",
        "        truncation=True,\n",
        "        max_length=128\n",
        "    )\n",
        "\n",
        "# Tokenisasi dan formatting semua split\n",
        "def prepare_dataset_bert(ds):\n",
        "    ds = ds.map(tokenize_function_bert, batched=True)\n",
        "    if \"review_text\" in ds.column_names:\n",
        "        ds = ds.remove_columns([\"review_text\"])\n",
        "    if \"__index_level_0__\" in ds.column_names:\n",
        "        ds = ds.remove_columns([\"__index_level_0__\"])\n",
        "    ds = ds.rename_column(\"review_score\", \"labels\")\n",
        "    ds = ds.cast_column(\"labels\", datasets.Value(\"int64\"))\n",
        "\n",
        "    ds.set_format(\"torch\")\n",
        "    return ds"
      ]
    },
    {
      "cell_type": "code",
      "execution_count": null,
      "metadata": {
        "colab": {
          "base_uri": "https://localhost:8080/",
          "height": 315
        },
        "id": "x3uanFR15B_q",
        "outputId": "4cc41a86-ebe5-458e-ec95-63adab6fb383"
      },
      "outputs": [
        {
          "name": "stdout",
          "output_type": "stream",
          "text": [
            "Model dan tokenizer BERT sudah ada, langsung load...\n"
          ]
        },
        {
          "name": "stderr",
          "output_type": "stream",
          "text": [
            "Using the `WANDB_DISABLED` environment variable is deprecated and will be removed in v5. Use the --report_to flag to control the integrations used for logging result (for instance --report_to none).\n"
          ]
        },
        {
          "data": {
            "text/html": [],
            "text/plain": [
              "<IPython.core.display.HTML object>"
            ]
          },
          "metadata": {},
          "output_type": "display_data"
        },
        {
          "name": "stdout",
          "output_type": "stream",
          "text": [
            "\n",
            "Test Evaluation:\n",
            "{'eval_loss': 0.30253514647483826, 'eval_model_preparation_time': 0.003, 'eval_accuracy': 0.8895, 'eval_f1': 0.8894990883747721, 'eval_runtime': 27.7919, 'eval_samples_per_second': 143.927, 'eval_steps_per_second': 17.991}\n",
            "\n",
            "Classification Report:\n",
            "              precision    recall  f1-score   support\n",
            "\n",
            "           0     0.9044    0.8750    0.8894      2032\n",
            "           1     0.8751    0.9045    0.8896      1968\n",
            "\n",
            "    accuracy                         0.8895      4000\n",
            "   macro avg     0.8897    0.8897    0.8895      4000\n",
            "weighted avg     0.8900    0.8895    0.8895      4000\n",
            "\n"
          ]
        }
      ],
      "source": [
        "# PATH\n",
        "MODEL_SAVE_PATH_BERT = \"/content/drive/MyDrive/Models/bert\"\n",
        "train_path_bert = \"/content/drive/MyDrive/Datasets/train_dataset_bert\"\n",
        "val_path_bert = \"/content/drive/MyDrive/Datasets/val_dataset_bert\"\n",
        "test_path_bert = \"/content/drive/MyDrive/Datasets/test_dataset_bert\"\n",
        "\n",
        "# Cek apakah model sudah ada\n",
        "if os.path.exists(MODEL_SAVE_PATH_BERT):\n",
        "    print(\"Model dan tokenizer BERT sudah ada, langsung load...\")\n",
        "\n",
        "    model_bert = AutoModelForSequenceClassification.from_pretrained(MODEL_SAVE_PATH_BERT)\n",
        "    tokenizer_bert = AutoTokenizer.from_pretrained(MODEL_SAVE_PATH_BERT)\n",
        "\n",
        "    test_dataset_bert = load_from_disk(test_path_bert)\n",
        "\n",
        "    trainer_bert = Trainer(\n",
        "        model=model_bert,\n",
        "        tokenizer=tokenizer_bert,\n",
        "        compute_metrics=compute_metrics,\n",
        "    )\n",
        "\n",
        "    # Evaluate\n",
        "    test_results = trainer_bert.evaluate(test_dataset_bert)\n",
        "    print(\"\\nTest Evaluation:\")\n",
        "    print(test_results)\n",
        "\n",
        "    predictions = trainer_bert.predict(test_dataset_bert)\n",
        "    pred_labels = predictions.predictions.argmax(-1)\n",
        "    true_labels = predictions.label_ids\n",
        "\n",
        "    print(\"\\nClassification Report:\")\n",
        "    print(classification_report(true_labels, pred_labels, digits=4))\n",
        "\n",
        "else:\n",
        "    print(\"Model BERT belum ada, mulai proses training...\")\n",
        "\n",
        "    MODEL_NAME_BERT = \"bert-base-uncased\"\n",
        "    tokenizer_bert = AutoTokenizer.from_pretrained(MODEL_NAME_BERT)\n",
        "    model_bert = AutoModelForSequenceClassification.from_pretrained(MODEL_NAME_BERT, num_labels=2)\n",
        "\n",
        "    model_bert.to(device)\n",
        "\n",
        "    if all(os.path.exists(p) for p in [train_path_bert, val_path_bert, test_path_bert]):\n",
        "        print(\"Dataset BERT sudah ada, langsung load dari Drive...\")\n",
        "        train_dataset_bert = load_from_disk(train_path_bert)\n",
        "        val_dataset_bert = load_from_disk(val_path_bert)\n",
        "        test_dataset_bert = load_from_disk(test_path_bert)\n",
        "    else:\n",
        "        print(\"Dataset BERT belum ada, mulai preprocessing...\")\n",
        "        train_dataset_bert = prepare_dataset_bert(train_dataset)\n",
        "        val_dataset_bert = prepare_dataset_bert(val_dataset)\n",
        "        test_dataset_bert = prepare_dataset_bert(test_dataset)\n",
        "\n",
        "        train_dataset_bert.save_to_disk(train_path_bert)\n",
        "        val_dataset_bert.save_to_disk(val_path_bert)\n",
        "        test_dataset_bert.save_to_disk(test_path_bert)\n",
        "\n",
        "    training_args_bert = TrainingArguments(\n",
        "        output_dir=MODEL_SAVE_PATH_BERT,\n",
        "        eval_strategy=\"epoch\",\n",
        "        save_strategy=\"epoch\",\n",
        "        logging_strategy=\"steps\",\n",
        "        logging_steps=100,\n",
        "        learning_rate=2e-5,\n",
        "        per_device_train_batch_size=16,\n",
        "        per_device_eval_batch_size=32,\n",
        "        num_train_epochs=5,\n",
        "        weight_decay=0.01,\n",
        "        load_best_model_at_end=True,\n",
        "        metric_for_best_model=\"f1\",\n",
        "        save_total_limit=3,\n",
        "        report_to=\"none\",\n",
        "    )\n",
        "\n",
        "    trainer_bert = Trainer(\n",
        "        model=model_bert,\n",
        "        args=training_args_bert,\n",
        "        train_dataset=train_dataset_bert,\n",
        "        eval_dataset=val_dataset_bert,\n",
        "        tokenizer=tokenizer_bert,\n",
        "        compute_metrics=compute_metrics,\n",
        "    )\n",
        "\n",
        "    # Resume from checkpoint if any\n",
        "    last_checkpoint = None\n",
        "    if os.path.isdir(MODEL_SAVE_PATH_BERT):\n",
        "        checkpoints = [os.path.join(MODEL_SAVE_PATH_BERT, d) for d in os.listdir(MODEL_SAVE_PATH_BERT) if d.startswith(\"checkpoint\")]\n",
        "        if checkpoints:\n",
        "            last_checkpoint = max(checkpoints, key=os.path.getmtime)\n",
        "\n",
        "    if last_checkpoint:\n",
        "        print(f\"Resume from checkpoint: {last_checkpoint}\")\n",
        "        trainer_bert.train(resume_from_checkpoint=last_checkpoint)\n",
        "    else:\n",
        "        print(\"Start training from scratch...\")\n",
        "        trainer_bert.train()\n",
        "\n",
        "    # Save final model & tokenizer\n",
        "    model_bert.save_pretrained(MODEL_SAVE_PATH_BERT)\n",
        "    tokenizer_bert.save_pretrained(MODEL_SAVE_PATH_BERT)"
      ]
    },
    {
      "cell_type": "markdown",
      "metadata": {
        "id": "MLEsvzfl_tuC"
      },
      "source": [
        "**RoBERTa-base**"
      ]
    },
    {
      "cell_type": "code",
      "execution_count": null,
      "metadata": {
        "id": "eHLxdp0K_ycg"
      },
      "outputs": [],
      "source": [
        "# Tokenization function with input check\n",
        "def tokenize_function_roberta(examples):\n",
        "    texts = examples[\"review_text\"]\n",
        "    # Pastikan semua elemen adalah string\n",
        "    texts = [str(t) if not isinstance(t, str) else t for t in texts]\n",
        "    return tokenizer_roberta(\n",
        "        texts,\n",
        "        padding=\"max_length\",\n",
        "        truncation=True,\n",
        "        max_length=128\n",
        "    )\n",
        "\n",
        "# Preprocessing function with safety checks\n",
        "def prepare_dataset_roberta(ds):\n",
        "    # Tokenize in batch\n",
        "    ds = ds.map(tokenize_function_roberta, batched=True, batch_size=32)\n",
        "\n",
        "    # Remove unnecessary columns\n",
        "    for col in [\"review_text\", \"__index_level_0__\"]:\n",
        "        if col in ds.column_names:\n",
        "            ds = ds.remove_columns([col])\n",
        "\n",
        "    # Rename and cast label column\n",
        "    if \"review_score\" in ds.column_names:\n",
        "        ds = ds.rename_column(\"review_score\", \"labels\")\n",
        "    ds = ds.cast_column(\"labels\", datasets.Value(\"int64\"))\n",
        "\n",
        "    # Set PyTorch format\n",
        "    ds.set_format(\"torch\")\n",
        "    return ds"
      ]
    },
    {
      "cell_type": "code",
      "execution_count": null,
      "metadata": {
        "colab": {
          "base_uri": "https://localhost:8080/",
          "height": 315
        },
        "id": "_-WxL7T8L5Em",
        "outputId": "6bcaab08-7e2d-48a2-e818-197a066842a2"
      },
      "outputs": [
        {
          "name": "stdout",
          "output_type": "stream",
          "text": [
            "Model dan tokenizer RoBERTa sudah ada, langsung load...\n"
          ]
        },
        {
          "name": "stderr",
          "output_type": "stream",
          "text": [
            "Using the `WANDB_DISABLED` environment variable is deprecated and will be removed in v5. Use the --report_to flag to control the integrations used for logging result (for instance --report_to none).\n"
          ]
        },
        {
          "data": {
            "text/html": [],
            "text/plain": [
              "<IPython.core.display.HTML object>"
            ]
          },
          "metadata": {},
          "output_type": "display_data"
        },
        {
          "name": "stdout",
          "output_type": "stream",
          "text": [
            "\n",
            "Test Evaluation:\n",
            "{'eval_loss': 0.5073762536048889, 'eval_model_preparation_time': 0.0053, 'eval_accuracy': 0.9, 'eval_f1': 0.899996398833222, 'eval_runtime': 28.2282, 'eval_samples_per_second': 141.702, 'eval_steps_per_second': 17.713}\n",
            "\n",
            "Classification Report:\n",
            "              precision    recall  f1-score   support\n",
            "\n",
            "           0     0.9000    0.9035    0.9018      2032\n",
            "           1     0.9000    0.8963    0.8982      1968\n",
            "\n",
            "    accuracy                         0.9000      4000\n",
            "   macro avg     0.9000    0.8999    0.9000      4000\n",
            "weighted avg     0.9000    0.9000    0.9000      4000\n",
            "\n"
          ]
        }
      ],
      "source": [
        "# PATH\n",
        "MODEL_SAVE_PATH_ROBERTA = \"/content/drive/MyDrive/Models/roberta\"\n",
        "train_path_roberta = \"/content/drive/MyDrive/Datasets/train_dataset_roberta\"\n",
        "val_path_roberta = \"/content/drive/MyDrive/Datasets/val_dataset_roberta\"\n",
        "test_path_roberta = \"/content/drive/MyDrive/Datasets/test_dataset_roberta\"\n",
        "\n",
        "# Cek apakah model sudah ada\n",
        "if os.path.exists(MODEL_SAVE_PATH_ROBERTA):\n",
        "    print(\"Model dan tokenizer RoBERTa sudah ada, langsung load...\")\n",
        "\n",
        "    model_roberta = AutoModelForSequenceClassification.from_pretrained(MODEL_SAVE_PATH_ROBERTA)\n",
        "    tokenizer_roberta = AutoTokenizer.from_pretrained(MODEL_SAVE_PATH_ROBERTA)\n",
        "\n",
        "    test_dataset_roberta = load_from_disk(test_path_roberta)\n",
        "\n",
        "    trainer_roberta = Trainer(\n",
        "        model=model_roberta,\n",
        "        tokenizer=tokenizer_roberta,\n",
        "        compute_metrics=compute_metrics,\n",
        "    )\n",
        "\n",
        "    # Evaluate\n",
        "    test_results = trainer_roberta.evaluate(test_dataset_roberta)\n",
        "    print(\"\\nTest Evaluation:\")\n",
        "    print(test_results)\n",
        "\n",
        "    predictions = trainer_roberta.predict(test_dataset_roberta)\n",
        "    pred_labels = predictions.predictions.argmax(-1)\n",
        "    true_labels = predictions.label_ids\n",
        "\n",
        "    print(\"\\nClassification Report:\")\n",
        "    print(classification_report(true_labels, pred_labels, digits=4))\n",
        "\n",
        "else:\n",
        "    print(\"Model RoBERTa belum ada, mulai proses training...\")\n",
        "\n",
        "    MODEL_NAME_ROBERTA = \"roberta-base\"\n",
        "    tokenizer_roberta = AutoTokenizer.from_pretrained(MODEL_NAME_ROBERTA)\n",
        "    model_roberta = AutoModelForSequenceClassification.from_pretrained(MODEL_NAME_ROBERTA, num_labels=2)\n",
        "\n",
        "    model_roberta.to(device)\n",
        "\n",
        "    if all(os.path.exists(p) for p in [train_path_roberta, val_path_roberta, test_path_roberta]):\n",
        "        print(\"Dataset RoBERTa sudah ada, langsung load dari Drive...\")\n",
        "        train_dataset_roberta = load_from_disk(train_path_roberta)\n",
        "        val_dataset_roberta = load_from_disk(val_path_roberta)\n",
        "        test_dataset_roberta = load_from_disk(test_path_roberta)\n",
        "    else:\n",
        "        print(\"Dataset RoBERTa belum ada, mulai preprocessing...\")\n",
        "        train_dataset_roberta = prepare_dataset_roberta(train_dataset)\n",
        "        val_dataset_roberta = prepare_dataset_roberta(val_dataset)\n",
        "        test_dataset_roberta = prepare_dataset_roberta(test_dataset)\n",
        "\n",
        "        train_dataset_roberta.save_to_disk(train_path_roberta)\n",
        "        val_dataset_roberta.save_to_disk(val_path_roberta)\n",
        "        test_dataset_roberta.save_to_disk(test_path_roberta)\n",
        "\n",
        "    training_args_roberta = TrainingArguments(\n",
        "        output_dir=MODEL_SAVE_PATH_ROBERTA,\n",
        "        eval_strategy=\"epoch\",\n",
        "        save_strategy=\"epoch\",\n",
        "        logging_strategy=\"steps\",\n",
        "        logging_steps=100,\n",
        "        learning_rate=2e-5,\n",
        "        per_device_train_batch_size=16,\n",
        "        per_device_eval_batch_size=32,\n",
        "        num_train_epochs=5,\n",
        "        weight_decay=0.01,\n",
        "        load_best_model_at_end=False,\n",
        "        metric_for_best_model=\"f1\",\n",
        "        save_total_limit=3,\n",
        "        report_to=\"none\",\n",
        "    )\n",
        "\n",
        "    trainer_roberta = Trainer(\n",
        "        model=model_roberta,\n",
        "        args=training_args_roberta,\n",
        "        train_dataset=train_dataset_roberta,\n",
        "        eval_dataset=val_dataset_roberta,\n",
        "        tokenizer=tokenizer_roberta,\n",
        "        compute_metrics=compute_metrics,\n",
        "    )\n",
        "\n",
        "    # Resume from checkpoint if any\n",
        "    last_checkpoint = None\n",
        "    if os.path.isdir(MODEL_SAVE_PATH_ROBERTA):\n",
        "        checkpoints = [os.path.join(MODEL_SAVE_PATH_ROBERTA, d) for d in os.listdir(MODEL_SAVE_PATH_ROBERTA) if d.startswith(\"checkpoint\")]\n",
        "        if checkpoints:\n",
        "            last_checkpoint = max(checkpoints, key=os.path.getmtime)\n",
        "\n",
        "    if last_checkpoint:\n",
        "        print(f\"Resume from checkpoint: {last_checkpoint}\")\n",
        "        trainer_roberta.train(resume_from_checkpoint=last_checkpoint)\n",
        "    else:\n",
        "        print(\"Start training from scratch...\")\n",
        "        trainer_roberta.train()\n",
        "\n",
        "    # Save final model & tokenizer\n",
        "    model_roberta.save_pretrained(MODEL_SAVE_PATH_ROBERTA)\n",
        "    tokenizer_roberta.save_pretrained(MODEL_SAVE_PATH_ROBERTA)"
      ]
    },
    {
      "cell_type": "markdown",
      "metadata": {
        "id": "iPnhQqCVwVYH"
      },
      "source": [
        "**DeBERTa-base**"
      ]
    },
    {
      "cell_type": "code",
      "execution_count": null,
      "metadata": {
        "id": "woyOsN_fAzKo"
      },
      "outputs": [],
      "source": [
        "# Tokenization function with input check\n",
        "def tokenize_function_deberta(examples):\n",
        "    texts = examples[\"review_text\"]\n",
        "    # Pastikan semua elemen adalah string\n",
        "    texts = [str(t) if not isinstance(t, str) else t for t in texts]\n",
        "    return tokenizer_deberta(\n",
        "        texts,\n",
        "        padding=\"max_length\",\n",
        "        truncation=True,\n",
        "        max_length=128\n",
        "    )\n",
        "\n",
        "# Preprocessing function with safety checks\n",
        "def prepare_dataset_deberta(ds):\n",
        "    # Tokenize in batch\n",
        "    ds = ds.map(tokenize_function_deberta, batched=True, batch_size=32)\n",
        "\n",
        "    # Remove unnecessary columns\n",
        "    for col in [\"review_text\", \"__index_level_0__\"]:\n",
        "        if col in ds.column_names:\n",
        "            ds = ds.remove_columns([col])\n",
        "\n",
        "    # Rename and cast label column\n",
        "    if \"review_score\" in ds.column_names:\n",
        "        ds = ds.rename_column(\"review_score\", \"labels\")\n",
        "    ds = ds.cast_column(\"labels\", datasets.Value(\"int64\"))\n",
        "\n",
        "    # Set PyTorch format\n",
        "    ds.set_format(\"torch\")\n",
        "    return ds"
      ]
    },
    {
      "cell_type": "code",
      "execution_count": null,
      "metadata": {
        "colab": {
          "base_uri": "https://localhost:8080/",
          "height": 315
        },
        "id": "X-lnpcTAA0pE",
        "outputId": "775d5358-5e17-43c6-f5bd-79679a4a592d"
      },
      "outputs": [
        {
          "name": "stdout",
          "output_type": "stream",
          "text": [
            "Model dan tokenizer DeBERTa sudah ada, langsung load...\n"
          ]
        },
        {
          "name": "stderr",
          "output_type": "stream",
          "text": [
            "Using the `WANDB_DISABLED` environment variable is deprecated and will be removed in v5. Use the --report_to flag to control the integrations used for logging result (for instance --report_to none).\n"
          ]
        },
        {
          "data": {
            "text/html": [],
            "text/plain": [
              "<IPython.core.display.HTML object>"
            ]
          },
          "metadata": {},
          "output_type": "display_data"
        },
        {
          "name": "stdout",
          "output_type": "stream",
          "text": [
            "\n",
            "Test Evaluation:\n",
            "{'eval_loss': 0.2584897577762604, 'eval_model_preparation_time': 0.0052, 'eval_accuracy': 0.90625, 'eval_f1': 0.9061583456548574, 'eval_runtime': 36.9145, 'eval_samples_per_second': 108.359, 'eval_steps_per_second': 13.545}\n",
            "\n",
            "Classification Report:\n",
            "              precision    recall  f1-score   support\n",
            "\n",
            "           0     0.8891    0.9316    0.9099      2032\n",
            "           1     0.9257    0.8801    0.9023      1968\n",
            "\n",
            "    accuracy                         0.9062      4000\n",
            "   macro avg     0.9074    0.9058    0.9061      4000\n",
            "weighted avg     0.9071    0.9062    0.9062      4000\n",
            "\n"
          ]
        }
      ],
      "source": [
        "# PATH\n",
        "MODEL_SAVE_PATH_DEBERTA = \"/content/drive/MyDrive/Models/deberta\"\n",
        "train_path_deberta = \"/content/drive/MyDrive/Datasets/train_dataset_deberta\"\n",
        "val_path_deberta = \"/content/drive/MyDrive/Datasets/val_dataset_deberta\"\n",
        "test_path_deberta = \"/content/drive/MyDrive/Datasets/test_dataset_deberta\"\n",
        "\n",
        "# Cek apakah model sudah ada\n",
        "if os.path.exists(MODEL_SAVE_PATH_DEBERTA):\n",
        "    print(\"Model dan tokenizer DeBERTa sudah ada, langsung load...\")\n",
        "\n",
        "    model_deberta = AutoModelForSequenceClassification.from_pretrained(MODEL_SAVE_PATH_DEBERTA)\n",
        "    tokenizer_deberta = AutoTokenizer.from_pretrained(MODEL_SAVE_PATH_DEBERTA)\n",
        "\n",
        "    test_dataset_deberta = load_from_disk(test_path_deberta)\n",
        "\n",
        "    trainer_deberta = Trainer(\n",
        "        model=model_deberta,\n",
        "        tokenizer=tokenizer_deberta,\n",
        "        compute_metrics=compute_metrics,\n",
        "    )\n",
        "\n",
        "    # Evaluate\n",
        "    test_results = trainer_deberta.evaluate(test_dataset_deberta)\n",
        "    print(\"\\nTest Evaluation:\")\n",
        "    print(test_results)\n",
        "\n",
        "    predictions = trainer_deberta.predict(test_dataset_deberta)\n",
        "    pred_labels = predictions.predictions.argmax(-1)\n",
        "    true_labels = predictions.label_ids\n",
        "\n",
        "    print(\"\\nClassification Report:\")\n",
        "    print(classification_report(true_labels, pred_labels, digits=4))\n",
        "\n",
        "else:\n",
        "    print(\"Model DeBERTa belum ada, mulai proses training...\")\n",
        "\n",
        "    MODEL_NAME_DEBERTA = \"microsoft/deberta-base\"\n",
        "    tokenizer_deberta = AutoTokenizer.from_pretrained(MODEL_NAME_DEBERTA)\n",
        "    model_deberta = AutoModelForSequenceClassification.from_pretrained(MODEL_NAME_DEBERTA, num_labels=2)\n",
        "\n",
        "    model_deberta.to(device)\n",
        "\n",
        "    if all(os.path.exists(p) for p in [train_path_deberta, val_path_deberta, test_path_deberta]):\n",
        "        print(\"Dataset DeBERTa sudah ada, langsung load dari Drive...\")\n",
        "        train_dataset_deberta = load_from_disk(train_path_deberta)\n",
        "        val_dataset_deberta = load_from_disk(val_path_deberta)\n",
        "        test_dataset_deberta = load_from_disk(test_path_deberta)\n",
        "    else:\n",
        "        print(\"Dataset DeBERTa belum ada, mulai preprocessing...\")\n",
        "        train_dataset_deberta = prepare_dataset_deberta(train_dataset)\n",
        "        val_dataset_deberta = prepare_dataset_deberta(val_dataset)\n",
        "        test_dataset_deberta = prepare_dataset_deberta(test_dataset)\n",
        "\n",
        "        train_dataset_deberta.save_to_disk(train_path_deberta)\n",
        "        val_dataset_deberta.save_to_disk(val_path_deberta)\n",
        "        test_dataset_deberta.save_to_disk(test_path_deberta)\n",
        "\n",
        "    training_args_deberta = TrainingArguments(\n",
        "        output_dir=MODEL_SAVE_PATH_DEBERTA,\n",
        "        eval_strategy=\"epoch\",\n",
        "        save_strategy=\"epoch\",\n",
        "        logging_strategy=\"steps\",\n",
        "        logging_steps=100,\n",
        "        learning_rate=2e-5,\n",
        "        per_device_train_batch_size=16,\n",
        "        per_device_eval_batch_size=32,\n",
        "        num_train_epochs=5,\n",
        "        weight_decay=0.01,\n",
        "        load_best_model_at_end=True,\n",
        "        metric_for_best_model=\"f1\",\n",
        "        save_total_limit=3,\n",
        "        report_to=\"none\",\n",
        "    )\n",
        "\n",
        "    trainer_deberta = Trainer(\n",
        "        model=model_deberta,\n",
        "        args=training_args_deberta,\n",
        "        train_dataset=train_dataset_deberta,\n",
        "        eval_dataset=val_dataset_deberta,\n",
        "        tokenizer=tokenizer_deberta,\n",
        "        compute_metrics=compute_metrics,\n",
        "    )\n",
        "\n",
        "    # Resume from checkpoint if any\n",
        "    last_checkpoint = None\n",
        "    if os.path.isdir(MODEL_SAVE_PATH_DEBERTA):\n",
        "        checkpoints = [os.path.join(MODEL_SAVE_PATH_DEBERTA, d) for d in os.listdir(MODEL_SAVE_PATH_DEBERTA) if d.startswith(\"checkpoint\")]\n",
        "        if checkpoints:\n",
        "            last_checkpoint = max(checkpoints, key=os.path.getmtime)\n",
        "\n",
        "    if last_checkpoint:\n",
        "        print(f\"Resume from checkpoint: {last_checkpoint}\")\n",
        "        trainer_deberta.train(resume_from_checkpoint=last_checkpoint)\n",
        "    else:\n",
        "        print(\"Start training from scratch...\")\n",
        "        trainer_deberta.train()\n",
        "\n",
        "    # Save final model & tokenizer\n",
        "    model_deberta.save_pretrained(MODEL_SAVE_PATH_DEBERTA)\n",
        "    tokenizer_deberta.save_pretrained(MODEL_SAVE_PATH_DEBERTA)"
      ]
    },
    {
      "cell_type": "markdown",
      "metadata": {
        "id": "phNCg0cTBZ6i"
      },
      "source": [
        "# **Evaluation**"
      ]
    },
    {
      "cell_type": "code",
      "execution_count": null,
      "metadata": {
        "colab": {
          "base_uri": "https://localhost:8080/",
          "height": 97
        },
        "id": "EUDTrtHYBZHW",
        "outputId": "bd63d9bb-8d14-4276-8dde-88b2deba8706"
      },
      "outputs": [
        {
          "data": {
            "text/html": [
              "\n",
              "    <div>\n",
              "      \n",
              "      <progress value='500' max='500' style='width:300px; height:20px; vertical-align: middle;'></progress>\n",
              "      [500/500 00:03]\n",
              "    </div>\n",
              "    "
            ],
            "text/plain": [
              "<IPython.core.display.HTML object>"
            ]
          },
          "metadata": {},
          "output_type": "display_data"
        },
        {
          "data": {
            "text/html": [
              "\n",
              "    <div>\n",
              "      \n",
              "      <progress value='500' max='500' style='width:300px; height:20px; vertical-align: middle;'></progress>\n",
              "      [500/500 00:26]\n",
              "    </div>\n",
              "    "
            ],
            "text/plain": [
              "<IPython.core.display.HTML object>"
            ]
          },
          "metadata": {},
          "output_type": "display_data"
        },
        {
          "data": {
            "text/html": [
              "\n",
              "    <div>\n",
              "      \n",
              "      <progress value='500' max='500' style='width:300px; height:20px; vertical-align: middle;'></progress>\n",
              "      [500/500 00:26]\n",
              "    </div>\n",
              "    "
            ],
            "text/plain": [
              "<IPython.core.display.HTML object>"
            ]
          },
          "metadata": {},
          "output_type": "display_data"
        },
        {
          "data": {
            "text/html": [
              "\n",
              "    <div>\n",
              "      \n",
              "      <progress value='500' max='500' style='width:300px; height:20px; vertical-align: middle;'></progress>\n",
              "      [500/500 00:36]\n",
              "    </div>\n",
              "    "
            ],
            "text/plain": [
              "<IPython.core.display.HTML object>"
            ]
          },
          "metadata": {},
          "output_type": "display_data"
        }
      ],
      "source": [
        "# Evaluasi setiap model dan simpan hasilnya\n",
        "eval_tinybert = trainer_tinybert.evaluate(test_dataset_tinybert)\n",
        "eval_bert     = trainer_bert.evaluate(test_dataset_bert)\n",
        "eval_roberta  = trainer_roberta.evaluate(test_dataset_roberta)\n",
        "eval_deberta  = trainer_deberta.evaluate(test_dataset_deberta)"
      ]
    },
    {
      "cell_type": "code",
      "execution_count": null,
      "metadata": {
        "colab": {
          "base_uri": "https://localhost:8080/"
        },
        "id": "maQb40-lBtrV",
        "outputId": "142bfa72-a6cf-4243-e8df-c6ace7275f4a"
      },
      "outputs": [
        {
          "name": "stdout",
          "output_type": "stream",
          "text": [
            "📊 Evaluation Results:\n",
            "\n",
            "🔹 TinyBERT:\n",
            "  Accuracy: 0.8705\n",
            "  F1 Score: 0.8705\n",
            "\n",
            "🔹 BERT-base:\n",
            "  Accuracy: 0.8895\n",
            "  F1 Score: 0.8895\n",
            "\n",
            "🔹 RoBERTa-base:\n",
            "  Accuracy: 0.9000\n",
            "  F1 Score: 0.9000\n",
            "\n",
            "🔹 DeBERTa-base:\n",
            "  Accuracy: 0.9062\n",
            "  F1 Score: 0.9062\n",
            "\n"
          ]
        }
      ],
      "source": [
        "# Tampilkan hasil evaluasi dengan F1 dan Accuracy\n",
        "print(\"📊 Evaluation Results:\\n\")\n",
        "\n",
        "print(\"🔹 TinyBERT:\")\n",
        "print(f\"  Accuracy: {eval_tinybert['eval_accuracy']:.4f}\")\n",
        "print(f\"  F1 Score: {eval_tinybert['eval_f1']:.4f}\\n\")\n",
        "\n",
        "print(\"🔹 BERT-base:\")\n",
        "print(f\"  Accuracy: {eval_bert['eval_accuracy']:.4f}\")\n",
        "print(f\"  F1 Score: {eval_bert['eval_f1']:.4f}\\n\")\n",
        "\n",
        "print(\"🔹 RoBERTa-base:\")\n",
        "print(f\"  Accuracy: {eval_roberta['eval_accuracy']:.4f}\")\n",
        "print(f\"  F1 Score: {eval_roberta['eval_f1']:.4f}\\n\")\n",
        "\n",
        "print(\"🔹 DeBERTa-base:\")\n",
        "print(f\"  Accuracy: {eval_deberta['eval_accuracy']:.4f}\")\n",
        "print(f\"  F1 Score: {eval_deberta['eval_f1']:.4f}\\n\")"
      ]
    },
    {
      "cell_type": "code",
      "execution_count": null,
      "metadata": {
        "colab": {
          "base_uri": "https://localhost:8080/",
          "height": 17
        },
        "id": "tVDWLWkQd4qm",
        "outputId": "13f9399c-4544-4a13-c02b-1378049459a0"
      },
      "outputs": [
        {
          "data": {
            "text/html": [],
            "text/plain": [
              "<IPython.core.display.HTML object>"
            ]
          },
          "metadata": {},
          "output_type": "display_data"
        },
        {
          "data": {
            "text/html": [],
            "text/plain": [
              "<IPython.core.display.HTML object>"
            ]
          },
          "metadata": {},
          "output_type": "display_data"
        },
        {
          "data": {
            "text/html": [],
            "text/plain": [
              "<IPython.core.display.HTML object>"
            ]
          },
          "metadata": {},
          "output_type": "display_data"
        },
        {
          "data": {
            "text/html": [],
            "text/plain": [
              "<IPython.core.display.HTML object>"
            ]
          },
          "metadata": {},
          "output_type": "display_data"
        }
      ],
      "source": [
        "from sklearn.metrics import classification_report, confusion_matrix\n",
        "\n",
        "# Ambil prediksi dan label asli dari test set\n",
        "def evaluate_model(trainer, test_dataset, model_name):\n",
        "    result = trainer.predict(test_dataset)\n",
        "    pred_labels = result.predictions.argmax(-1)\n",
        "    true_labels = result.label_ids\n",
        "\n",
        "    report = classification_report(true_labels, pred_labels, output_dict=True, digits=4)\n",
        "    matrix = confusion_matrix(true_labels, pred_labels)\n",
        "\n",
        "    return {\n",
        "        \"accuracy\": report[\"accuracy\"],\n",
        "        \"f1\": report[\"weighted avg\"][\"f1-score\"],\n",
        "        \"report\": report,\n",
        "        \"matrix\": matrix,\n",
        "        \"preds\": pred_labels,\n",
        "        \"labels\": true_labels,\n",
        "        \"name\": model_name\n",
        "    }\n",
        "\n",
        "results = [\n",
        "    evaluate_model(trainer_tinybert, test_dataset_tinybert, \"TinyBERT\"),\n",
        "    evaluate_model(trainer_bert, test_dataset_bert, \"BERT-base\"),\n",
        "    evaluate_model(trainer_roberta, test_dataset_roberta, \"RoBERTa-base\"),\n",
        "    evaluate_model(trainer_deberta, test_dataset_deberta, \"DeBERTa-base\"),\n",
        "]"
      ]
    },
    {
      "cell_type": "code",
      "execution_count": null,
      "metadata": {
        "colab": {
          "base_uri": "https://localhost:8080/",
          "height": 507
        },
        "id": "0j-YZgrteYUp",
        "outputId": "922775a3-3f88-48e6-c266-22b04c09f9e6"
      },
      "outputs": [
        {
          "data": {
            "image/png": "[encoded data removed]",
            "text/plain": [
              "<Figure size 1000x500 with 1 Axes>"
            ]
          },
          "metadata": {},
          "output_type": "display_data"
        }
      ],
      "source": [
        "model_names = [r[\"name\"] for r in results]\n",
        "accuracies = [r[\"accuracy\"] for r in results]\n",
        "f1_scores = [r[\"f1\"] for r in results]\n",
        "\n",
        "plt.figure(figsize=(10, 5))\n",
        "bar_width = 0.35\n",
        "index = range(len(model_names))\n",
        "\n",
        "# Accuracy\n",
        "plt.bar(index, accuracies, bar_width, label='Accuracy', color='skyblue')\n",
        "# F1 Score\n",
        "plt.bar([i + bar_width for i in index], f1_scores, bar_width, label='F1 Score', color='salmon')\n",
        "\n",
        "plt.xlabel('Models')\n",
        "plt.ylabel('Score')\n",
        "plt.title('Accuracy vs F1 Score Comparison')\n",
        "plt.xticks([i + bar_width / 2 for i in index], model_names)\n",
        "plt.ylim(0, 1)\n",
        "plt.legend()\n",
        "plt.grid(axis='y', linestyle='--', alpha=0.7)\n",
        "plt.tight_layout()\n",
        "plt.show()"
      ]
    },
    {
      "cell_type": "code",
      "execution_count": null,
      "metadata": {
        "colab": {
          "base_uri": "https://localhost:8080/",
          "height": 807
        },
        "id": "wpL3K-rceclC",
        "outputId": "5c462332-00f7-4451-fdae-65141e18158c"
      },
      "outputs": [
        {
          "data": {
            "image/png": "[encoded data removed]",
            "text/plain": [
              "<Figure size 1000x800 with 4 Axes>"
            ]
          },
          "metadata": {},
          "output_type": "display_data"
        }
      ],
      "source": [
        "n_models = len(results)\n",
        "rows = 2\n",
        "cols = (n_models + 1) // 2  # pastikan cukup kolom, dibulatkan ke atas jika ganjil\n",
        "\n",
        "fig, axes = plt.subplots(rows, cols, figsize=(5 * cols, 4 * rows))\n",
        "\n",
        "# Flatten axis array untuk mudah indexing\n",
        "axes = axes.flatten()\n",
        "\n",
        "for i, r in enumerate(results):\n",
        "    sns.heatmap(r[\"matrix\"], annot=True, fmt=\"d\", cmap=\"Blues\", cbar=False, ax=axes[i])\n",
        "    axes[i].set_title(f\"Confusion Matrix: {r['name']}\")\n",
        "    axes[i].set_xlabel(\"Predicted\")\n",
        "    axes[i].set_ylabel(\"True\")\n",
        "\n",
        "# Sembunyikan sisa axes jika model-nya ganjil\n",
        "for j in range(i + 1, len(axes)):\n",
        "    fig.delaxes(axes[j])\n",
        "\n",
        "plt.tight_layout()\n",
        "plt.show()"
      ]
    }
  ],
  "metadata": {
    "accelerator": "GPU",
    "colab": {
      "gpuType": "T4",
      "provenance": []
    },
    "kernelspec": {
      "display_name": "Python 3",
      "name": "python3"
    },
    "language_info": {
      "name": "python"
    },
    "widgets": {
      "application/vnd.jupyter.widget-state+json": {
        "3284e0516cbc4a1dbf879f34efc81a8f": {
          "model_module": "@jupyter-widgets/controls",
          "model_module_version": "1.5.0",
          "model_name": "HTMLModel",
          "state": {
            "_dom_classes": [],
            "_model_module": "@jupyter-widgets/controls",
            "_model_module_version": "1.5.0",
            "_model_name": "HTMLModel",
            "_view_count": null,
            "_view_module": "@jupyter-widgets/controls",
            "_view_module_version": "1.5.0",
            "_view_name": "HTMLView",
            "description": "",
            "description_tooltip": null,
            "layout": "IPY_MODEL_88255fecd25f489d9fbec627e9ee8457",
            "placeholder": "​",
            "style": "IPY_MODEL_c98bdb5da5d743a5b15313b316913ae0",
            "value": "Pandas Apply: 100%"
          }
        },
        "34b22ed8aaa841c082bfc4d75347b440": {
          "model_module": "@jupyter-widgets/controls",
          "model_module_version": "1.5.0",
          "model_name": "FloatProgressModel",
          "state": {
            "_dom_classes": [],
            "_model_module": "@jupyter-widgets/controls",
            "_model_module_version": "1.5.0",
            "_model_name": "FloatProgressModel",
            "_view_count": null,
            "_view_module": "@jupyter-widgets/controls",
            "_view_module_version": "1.5.0",
            "_view_name": "ProgressView",
            "bar_style": "success",
            "description": "",
            "description_tooltip": null,
            "layout": "IPY_MODEL_55f6ca950020454e9022f4c3713f8dc2",
            "max": 40000,
            "min": 0,
            "orientation": "horizontal",
            "style": "IPY_MODEL_6c440d4ae2874c469c514bcaf42c5384",
            "value": 40000
          }
        },
        "4098f41a673a4d98a64e842fac423f7b": {
          "model_module": "@jupyter-widgets/controls",
          "model_module_version": "1.5.0",
          "model_name": "DescriptionStyleModel",
          "state": {
            "_model_module": "@jupyter-widgets/controls",
            "_model_module_version": "1.5.0",
            "_model_name": "DescriptionStyleModel",
            "_view_count": null,
            "_view_module": "@jupyter-widgets/base",
            "_view_module_version": "1.2.0",
            "_view_name": "StyleView",
            "description_width": ""
          }
        },
        "55f6ca950020454e9022f4c3713f8dc2": {
          "model_module": "@jupyter-widgets/base",
          "model_module_version": "1.2.0",
          "model_name": "LayoutModel",
          "state": {
            "_model_module": "@jupyter-widgets/base",
            "_model_module_version": "1.2.0",
            "_model_name": "LayoutModel",
            "_view_count": null,
            "_view_module": "@jupyter-widgets/base",
            "_view_module_version": "1.2.0",
            "_view_name": "LayoutView",
            "align_content": null,
            "align_items": null,
            "align_self": null,
            "border": null,
            "bottom": null,
            "display": null,
            "flex": null,
            "flex_flow": null,
            "grid_area": null,
            "grid_auto_columns": null,
            "grid_auto_flow": null,
            "grid_auto_rows": null,
            "grid_column": null,
            "grid_gap": null,
            "grid_row": null,
            "grid_template_areas": null,
            "grid_template_columns": null,
            "grid_template_rows": null,
            "height": null,
            "justify_content": null,
            "justify_items": null,
            "left": null,
            "margin": null,
            "max_height": null,
            "max_width": null,
            "min_height": null,
            "min_width": null,
            "object_fit": null,
            "object_position": null,
            "order": null,
            "overflow": null,
            "overflow_x": null,
            "overflow_y": null,
            "padding": null,
            "right": null,
            "top": null,
            "visibility": null,
            "width": null
          }
        },
        "6bb54dc6dac04ef983c5845050795ff6": {
          "model_module": "@jupyter-widgets/base",
          "model_module_version": "1.2.0",
          "model_name": "LayoutModel",
          "state": {
            "_model_module": "@jupyter-widgets/base",
            "_model_module_version": "1.2.0",
            "_model_name": "LayoutModel",
            "_view_count": null,
            "_view_module": "@jupyter-widgets/base",
            "_view_module_version": "1.2.0",
            "_view_name": "LayoutView",
            "align_content": null,
            "align_items": null,
            "align_self": null,
            "border": null,
            "bottom": null,
            "display": null,
            "flex": null,
            "flex_flow": null,
            "grid_area": null,
            "grid_auto_columns": null,
            "grid_auto_flow": null,
            "grid_auto_rows": null,
            "grid_column": null,
            "grid_gap": null,
            "grid_row": null,
            "grid_template_areas": null,
            "grid_template_columns": null,
            "grid_template_rows": null,
            "height": null,
            "justify_content": null,
            "justify_items": null,
            "left": null,
            "margin": null,
            "max_height": null,
            "max_width": null,
            "min_height": null,
            "min_width": null,
            "object_fit": null,
            "object_position": null,
            "order": null,
            "overflow": null,
            "overflow_x": null,
            "overflow_y": null,
            "padding": null,
            "right": null,
            "top": null,
            "visibility": null,
            "width": null
          }
        },
        "6c440d4ae2874c469c514bcaf42c5384": {
          "model_module": "@jupyter-widgets/controls",
          "model_module_version": "1.5.0",
          "model_name": "ProgressStyleModel",
          "state": {
            "_model_module": "@jupyter-widgets/controls",
            "_model_module_version": "1.5.0",
            "_model_name": "ProgressStyleModel",
            "_view_count": null,
            "_view_module": "@jupyter-widgets/base",
            "_view_module_version": "1.2.0",
            "_view_name": "StyleView",
            "bar_color": null,
            "description_width": ""
          }
        },
        "877613be6b7d42e6824ad031552a6a34": {
          "model_module": "@jupyter-widgets/base",
          "model_module_version": "1.2.0",
          "model_name": "LayoutModel",
          "state": {
            "_model_module": "@jupyter-widgets/base",
            "_model_module_version": "1.2.0",
            "_model_name": "LayoutModel",
            "_view_count": null,
            "_view_module": "@jupyter-widgets/base",
            "_view_module_version": "1.2.0",
            "_view_name": "LayoutView",
            "align_content": null,
            "align_items": null,
            "align_self": null,
            "border": null,
            "bottom": null,
            "display": null,
            "flex": null,
            "flex_flow": null,
            "grid_area": null,
            "grid_auto_columns": null,
            "grid_auto_flow": null,
            "grid_auto_rows": null,
            "grid_column": null,
            "grid_gap": null,
            "grid_row": null,
            "grid_template_areas": null,
            "grid_template_columns": null,
            "grid_template_rows": null,
            "height": null,
            "justify_content": null,
            "justify_items": null,
            "left": null,
            "margin": null,
            "max_height": null,
            "max_width": null,
            "min_height": null,
            "min_width": null,
            "object_fit": null,
            "object_position": null,
            "order": null,
            "overflow": null,
            "overflow_x": null,
            "overflow_y": null,
            "padding": null,
            "right": null,
            "top": null,
            "visibility": null,
            "width": null
          }
        },
        "88255fecd25f489d9fbec627e9ee8457": {
          "model_module": "@jupyter-widgets/base",
          "model_module_version": "1.2.0",
          "model_name": "LayoutModel",
          "state": {
            "_model_module": "@jupyter-widgets/base",
            "_model_module_version": "1.2.0",
            "_model_name": "LayoutModel",
            "_view_count": null,
            "_view_module": "@jupyter-widgets/base",
            "_view_module_version": "1.2.0",
            "_view_name": "LayoutView",
            "align_content": null,
            "align_items": null,
            "align_self": null,
            "border": null,
            "bottom": null,
            "display": null,
            "flex": null,
            "flex_flow": null,
            "grid_area": null,
            "grid_auto_columns": null,
            "grid_auto_flow": null,
            "grid_auto_rows": null,
            "grid_column": null,
            "grid_gap": null,
            "grid_row": null,
            "grid_template_areas": null,
            "grid_template_columns": null,
            "grid_template_rows": null,
            "height": null,
            "justify_content": null,
            "justify_items": null,
            "left": null,
            "margin": null,
            "max_height": null,
            "max_width": null,
            "min_height": null,
            "min_width": null,
            "object_fit": null,
            "object_position": null,
            "order": null,
            "overflow": null,
            "overflow_x": null,
            "overflow_y": null,
            "padding": null,
            "right": null,
            "top": null,
            "visibility": null,
            "width": null
          }
        },
        "8b7a9a469f1e42b8a273df6d9173245c": {
          "model_module": "@jupyter-widgets/controls",
          "model_module_version": "1.5.0",
          "model_name": "HBoxModel",
          "state": {
            "_dom_classes": [],
            "_model_module": "@jupyter-widgets/controls",
            "_model_module_version": "1.5.0",
            "_model_name": "HBoxModel",
            "_view_count": null,
            "_view_module": "@jupyter-widgets/controls",
            "_view_module_version": "1.5.0",
            "_view_name": "HBoxView",
            "box_style": "",
            "children": [
              "IPY_MODEL_3284e0516cbc4a1dbf879f34efc81a8f",
              "IPY_MODEL_34b22ed8aaa841c082bfc4d75347b440",
              "IPY_MODEL_b697a9230c394a2f90808d9317011c60"
            ],
            "layout": "IPY_MODEL_877613be6b7d42e6824ad031552a6a34"
          }
        },
        "b697a9230c394a2f90808d9317011c60": {
          "model_module": "@jupyter-widgets/controls",
          "model_module_version": "1.5.0",
          "model_name": "HTMLModel",
          "state": {
            "_dom_classes": [],
            "_model_module": "@jupyter-widgets/controls",
            "_model_module_version": "1.5.0",
            "_model_name": "HTMLModel",
            "_view_count": null,
            "_view_module": "@jupyter-widgets/controls",
            "_view_module_version": "1.5.0",
            "_view_name": "HTMLView",
            "description": "",
            "description_tooltip": null,
            "layout": "IPY_MODEL_6bb54dc6dac04ef983c5845050795ff6",
            "placeholder": "​",
            "style": "IPY_MODEL_4098f41a673a4d98a64e842fac423f7b",
            "value": " 40000/40000 [00:24&lt;00:00, 1791.77it/s]"
          }
        },
        "c98bdb5da5d743a5b15313b316913ae0": {
          "model_module": "@jupyter-widgets/controls",
          "model_module_version": "1.5.0",
          "model_name": "DescriptionStyleModel",
          "state": {
            "_model_module": "@jupyter-widgets/controls",
            "_model_module_version": "1.5.0",
            "_model_name": "DescriptionStyleModel",
            "_view_count": null,
            "_view_module": "@jupyter-widgets/base",
            "_view_module_version": "1.2.0",
            "_view_name": "StyleView",
            "description_width": ""
          }
        }
      }
    }
  },
  "nbformat": 4,
  "nbformat_minor": 0
}
